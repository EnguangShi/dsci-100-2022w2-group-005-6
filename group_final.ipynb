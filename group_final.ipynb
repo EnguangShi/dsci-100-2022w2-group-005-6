{
 "cells": [
  {
   "cell_type": "markdown",
   "id": "8b4fbcd4-9095-4c53-a3c7-b8c4dc450a9b",
   "metadata": {},
   "source": [
    "# Exploration of the Heart Disease Data Set\n",
    "#### Group Project Proposal 005-6"
   ]
  },
  {
   "cell_type": "markdown",
   "id": "9747d044-dc79-4eaa-b12c-d3318a784c95",
   "metadata": {},
   "source": [
    "## Introduction"
   ]
  },
  {
   "cell_type": "markdown",
   "id": "780ca011-e903-4914-a52c-b4624d819d3e",
   "metadata": {},
   "source": [
    "The dataset describes the age, sex, and other medical information about the patients that will give information on whether the patient might have heart disease or not. The last attribute gives a diagnosis of heart disease for that patient, with a value of 0 being a <50% diameter of the vessel narrowing, or a value of 1 being a >50% diameter of the vessel narrowing. This attribute uses angiographys as a way to predict and diagnose heart disease. \n",
    "\n",
    "The question we will try to answer is whether a patient will be diagnosed with heart disease. We have a number of predictors and we will use the technique of backward selection to narrow down our predictors to the few attributes that allow us to predict this most accurately.\n",
    "\n",
    "We will be using the Heart Disease Data set. This database describes 76 attributes but all experiments that have been published use only 14 as a reference. The “goal” field describes the presence of heart disease in the patient. The values of this field range from 0 to 4 with 0 being no presence and 1-4 a range of presence. The data set has numerous attributes related to a full medical history of the patient. These attributes include various types of information related to heart disease like chest pain, years as a smoker, family history of heart disease and other related diseases, blood sugar levels, exercise levels, and anginas (chest pain due to reduced blood flow, symptom of coronary artery disease). An angina is a very clear symptom of heart disease and has various types of anginas (as categorized by the data set with values 1, 2, 3, 4). A typical angina (value = 1) usually lasts for a few minutes and over the counter medicine can make it go away. An atypical angina (value = 2) can get worse over time and may indicate that the person is having a heart attack. A nonanginal pain (value = 3) usually results in pain similar to a normal angina however is due to different causes. Lastly, an asymptomatic angina is when there is an angina occurring, however usually little to no pain is experienced. "
   ]
  },
  {
   "cell_type": "markdown",
   "id": "91dd346e-1cb7-4fd7-9f57-6425ccc79e51",
   "metadata": {},
   "source": [
    "## Preliminary exploratory data analysis"
   ]
  },
  {
   "cell_type": "code",
   "execution_count": 1,
   "id": "68d0ad2d-417e-4d0f-91f2-71fc2bc21163",
   "metadata": {},
   "outputs": [
    {
     "name": "stderr",
     "output_type": "stream",
     "text": [
      "── \u001b[1mAttaching packages\u001b[22m ─────────────────────────────────────── tidyverse 1.3.1 ──\n",
      "\n",
      "\u001b[32m✔\u001b[39m \u001b[34mggplot2\u001b[39m 3.3.6     \u001b[32m✔\u001b[39m \u001b[34mpurrr  \u001b[39m 0.3.4\n",
      "\u001b[32m✔\u001b[39m \u001b[34mtibble \u001b[39m 3.1.7     \u001b[32m✔\u001b[39m \u001b[34mdplyr  \u001b[39m 1.0.9\n",
      "\u001b[32m✔\u001b[39m \u001b[34mtidyr  \u001b[39m 1.2.0     \u001b[32m✔\u001b[39m \u001b[34mstringr\u001b[39m 1.4.0\n",
      "\u001b[32m✔\u001b[39m \u001b[34mreadr  \u001b[39m 2.1.2     \u001b[32m✔\u001b[39m \u001b[34mforcats\u001b[39m 0.5.1\n",
      "\n",
      "── \u001b[1mConflicts\u001b[22m ────────────────────────────────────────── tidyverse_conflicts() ──\n",
      "\u001b[31m✖\u001b[39m \u001b[34mdplyr\u001b[39m::\u001b[32mfilter()\u001b[39m masks \u001b[34mstats\u001b[39m::filter()\n",
      "\u001b[31m✖\u001b[39m \u001b[34mdplyr\u001b[39m::\u001b[32mlag()\u001b[39m    masks \u001b[34mstats\u001b[39m::lag()\n",
      "\n",
      "── \u001b[1mAttaching packages\u001b[22m ────────────────────────────────────── tidymodels 1.0.0 ──\n",
      "\n",
      "\u001b[32m✔\u001b[39m \u001b[34mbroom       \u001b[39m 1.0.0     \u001b[32m✔\u001b[39m \u001b[34mrsample     \u001b[39m 1.0.0\n",
      "\u001b[32m✔\u001b[39m \u001b[34mdials       \u001b[39m 1.0.0     \u001b[32m✔\u001b[39m \u001b[34mtune        \u001b[39m 1.0.0\n",
      "\u001b[32m✔\u001b[39m \u001b[34minfer       \u001b[39m 1.0.2     \u001b[32m✔\u001b[39m \u001b[34mworkflows   \u001b[39m 1.0.0\n",
      "\u001b[32m✔\u001b[39m \u001b[34mmodeldata   \u001b[39m 1.0.0     \u001b[32m✔\u001b[39m \u001b[34mworkflowsets\u001b[39m 1.0.0\n",
      "\u001b[32m✔\u001b[39m \u001b[34mparsnip     \u001b[39m 1.0.0     \u001b[32m✔\u001b[39m \u001b[34myardstick   \u001b[39m 1.0.0\n",
      "\u001b[32m✔\u001b[39m \u001b[34mrecipes     \u001b[39m 1.0.1     \n",
      "\n",
      "── \u001b[1mConflicts\u001b[22m ───────────────────────────────────────── tidymodels_conflicts() ──\n",
      "\u001b[31m✖\u001b[39m \u001b[34mscales\u001b[39m::\u001b[32mdiscard()\u001b[39m masks \u001b[34mpurrr\u001b[39m::discard()\n",
      "\u001b[31m✖\u001b[39m \u001b[34mdplyr\u001b[39m::\u001b[32mfilter()\u001b[39m   masks \u001b[34mstats\u001b[39m::filter()\n",
      "\u001b[31m✖\u001b[39m \u001b[34mrecipes\u001b[39m::\u001b[32mfixed()\u001b[39m  masks \u001b[34mstringr\u001b[39m::fixed()\n",
      "\u001b[31m✖\u001b[39m \u001b[34mdplyr\u001b[39m::\u001b[32mlag()\u001b[39m      masks \u001b[34mstats\u001b[39m::lag()\n",
      "\u001b[31m✖\u001b[39m \u001b[34myardstick\u001b[39m::\u001b[32mspec()\u001b[39m masks \u001b[34mreadr\u001b[39m::spec()\n",
      "\u001b[31m✖\u001b[39m \u001b[34mrecipes\u001b[39m::\u001b[32mstep()\u001b[39m   masks \u001b[34mstats\u001b[39m::step()\n",
      "\u001b[34m•\u001b[39m Dig deeper into tidy modeling with R at \u001b[32mhttps://www.tmwr.org\u001b[39m\n",
      "\n",
      "\n",
      "Attaching package: ‘MASS’\n",
      "\n",
      "\n",
      "The following object is masked from ‘package:dplyr’:\n",
      "\n",
      "    select\n",
      "\n",
      "\n",
      "Registered S3 method overwritten by 'GGally':\n",
      "  method from   \n",
      "  +.gg   ggplot2\n",
      "\n"
     ]
    }
   ],
   "source": [
    "library(tidyverse)\n",
    "library(tidymodels)\n",
    "library(repr)\n",
    "library(MASS)\n",
    "library(ggplot2)\n",
    "library(tidyr)\n",
    "library(GGally)\n",
    "options(repr.matrix.max.rows = 6)"
   ]
  },
  {
   "cell_type": "markdown",
   "id": "577d7228-34de-4b2c-9f95-0d805d065d19",
   "metadata": {},
   "source": [
    "### Read the dataset, clean and wrangle the data into a tidy format."
   ]
  },
  {
   "cell_type": "markdown",
   "id": "f50c68e3-4913-4bf6-b39e-1e58e5583a09",
   "metadata": {},
   "source": [
    "Download the dataset from the url and store it into a local `csv` file."
   ]
  },
  {
   "cell_type": "code",
   "execution_count": 2,
   "id": "20a84d73-9d3f-40c6-8809-77b401628dd4",
   "metadata": {},
   "outputs": [],
   "source": [
    "url = 'https://archive.ics.uci.edu/ml/machine-learning-databases/heart-disease/processed.cleveland.data'\n",
    "\n",
    "download.file(url, destfile = \"data/processed.cleveland.data\")"
   ]
  },
  {
   "cell_type": "markdown",
   "id": "7f02949b-de4d-433f-913b-72344097bd18",
   "metadata": {},
   "source": [
    "Read the file into `heart_disease_original`. A"
   ]
  },
  {
   "cell_type": "code",
   "execution_count": 3,
   "id": "98894403-1a6c-420d-a830-2a97128cbf86",
   "metadata": {},
   "outputs": [
    {
     "name": "stderr",
     "output_type": "stream",
     "text": [
      "\u001b[1mRows: \u001b[22m\u001b[34m303\u001b[39m \u001b[1mColumns: \u001b[22m\u001b[34m14\u001b[39m\n",
      "\u001b[36m──\u001b[39m \u001b[1mColumn specification\u001b[22m \u001b[36m────────────────────────────────────────────────────────\u001b[39m\n",
      "\u001b[1mDelimiter:\u001b[22m \",\"\n",
      "\u001b[31mchr\u001b[39m  (2): ca, thal\n",
      "\u001b[32mdbl\u001b[39m (12): age, sex, cp, trestbps, chol, fbs, restecg, thalach, exang, oldpea...\n",
      "\n",
      "\u001b[36mℹ\u001b[39m Use `spec()` to retrieve the full column specification for this data.\n",
      "\u001b[36mℹ\u001b[39m Specify the column types or set `show_col_types = FALSE` to quiet this message.\n"
     ]
    },
    {
     "data": {
      "text/html": [
       "<table class=\"dataframe\">\n",
       "<caption>A tibble: 10 × 14</caption>\n",
       "<thead>\n",
       "\t<tr><th scope=col>age</th><th scope=col>sex</th><th scope=col>cp</th><th scope=col>trestbps</th><th scope=col>chol</th><th scope=col>fbs</th><th scope=col>restecg</th><th scope=col>thalach</th><th scope=col>exang</th><th scope=col>oldpeak</th><th scope=col>slope</th><th scope=col>ca</th><th scope=col>thal</th><th scope=col>num</th></tr>\n",
       "\t<tr><th scope=col>&lt;dbl&gt;</th><th scope=col>&lt;dbl&gt;</th><th scope=col>&lt;dbl&gt;</th><th scope=col>&lt;dbl&gt;</th><th scope=col>&lt;dbl&gt;</th><th scope=col>&lt;dbl&gt;</th><th scope=col>&lt;dbl&gt;</th><th scope=col>&lt;dbl&gt;</th><th scope=col>&lt;dbl&gt;</th><th scope=col>&lt;dbl&gt;</th><th scope=col>&lt;dbl&gt;</th><th scope=col>&lt;chr&gt;</th><th scope=col>&lt;chr&gt;</th><th scope=col>&lt;dbl&gt;</th></tr>\n",
       "</thead>\n",
       "<tbody>\n",
       "\t<tr><td>63</td><td>1</td><td>1</td><td>145</td><td>233</td><td>1</td><td>2</td><td>150</td><td>0</td><td>2.3</td><td>3</td><td>0.0</td><td>6.0</td><td>0</td></tr>\n",
       "\t<tr><td>67</td><td>1</td><td>4</td><td>160</td><td>286</td><td>0</td><td>2</td><td>108</td><td>1</td><td>1.5</td><td>2</td><td>3.0</td><td>3.0</td><td>2</td></tr>\n",
       "\t<tr><td>67</td><td>1</td><td>4</td><td>120</td><td>229</td><td>0</td><td>2</td><td>129</td><td>1</td><td>2.6</td><td>2</td><td>2.0</td><td>7.0</td><td>1</td></tr>\n",
       "\t<tr><td>⋮</td><td>⋮</td><td>⋮</td><td>⋮</td><td>⋮</td><td>⋮</td><td>⋮</td><td>⋮</td><td>⋮</td><td>⋮</td><td>⋮</td><td>⋮</td><td>⋮</td><td>⋮</td></tr>\n",
       "\t<tr><td>57</td><td>0</td><td>4</td><td>120</td><td>354</td><td>0</td><td>0</td><td>163</td><td>1</td><td>0.6</td><td>1</td><td>0.0</td><td>3.0</td><td>0</td></tr>\n",
       "\t<tr><td>63</td><td>1</td><td>4</td><td>130</td><td>254</td><td>0</td><td>2</td><td>147</td><td>0</td><td>1.4</td><td>2</td><td>1.0</td><td>7.0</td><td>2</td></tr>\n",
       "\t<tr><td>53</td><td>1</td><td>4</td><td>140</td><td>203</td><td>1</td><td>2</td><td>155</td><td>1</td><td>3.1</td><td>3</td><td>0.0</td><td>7.0</td><td>1</td></tr>\n",
       "</tbody>\n",
       "</table>\n"
      ],
      "text/latex": [
       "A tibble: 10 × 14\n",
       "\\begin{tabular}{llllllllllllll}\n",
       " age & sex & cp & trestbps & chol & fbs & restecg & thalach & exang & oldpeak & slope & ca & thal & num\\\\\n",
       " <dbl> & <dbl> & <dbl> & <dbl> & <dbl> & <dbl> & <dbl> & <dbl> & <dbl> & <dbl> & <dbl> & <chr> & <chr> & <dbl>\\\\\n",
       "\\hline\n",
       "\t 63 & 1 & 1 & 145 & 233 & 1 & 2 & 150 & 0 & 2.3 & 3 & 0.0 & 6.0 & 0\\\\\n",
       "\t 67 & 1 & 4 & 160 & 286 & 0 & 2 & 108 & 1 & 1.5 & 2 & 3.0 & 3.0 & 2\\\\\n",
       "\t 67 & 1 & 4 & 120 & 229 & 0 & 2 & 129 & 1 & 2.6 & 2 & 2.0 & 7.0 & 1\\\\\n",
       "\t ⋮ & ⋮ & ⋮ & ⋮ & ⋮ & ⋮ & ⋮ & ⋮ & ⋮ & ⋮ & ⋮ & ⋮ & ⋮ & ⋮\\\\\n",
       "\t 57 & 0 & 4 & 120 & 354 & 0 & 0 & 163 & 1 & 0.6 & 1 & 0.0 & 3.0 & 0\\\\\n",
       "\t 63 & 1 & 4 & 130 & 254 & 0 & 2 & 147 & 0 & 1.4 & 2 & 1.0 & 7.0 & 2\\\\\n",
       "\t 53 & 1 & 4 & 140 & 203 & 1 & 2 & 155 & 1 & 3.1 & 3 & 0.0 & 7.0 & 1\\\\\n",
       "\\end{tabular}\n"
      ],
      "text/markdown": [
       "\n",
       "A tibble: 10 × 14\n",
       "\n",
       "| age &lt;dbl&gt; | sex &lt;dbl&gt; | cp &lt;dbl&gt; | trestbps &lt;dbl&gt; | chol &lt;dbl&gt; | fbs &lt;dbl&gt; | restecg &lt;dbl&gt; | thalach &lt;dbl&gt; | exang &lt;dbl&gt; | oldpeak &lt;dbl&gt; | slope &lt;dbl&gt; | ca &lt;chr&gt; | thal &lt;chr&gt; | num &lt;dbl&gt; |\n",
       "|---|---|---|---|---|---|---|---|---|---|---|---|---|---|\n",
       "| 63 | 1 | 1 | 145 | 233 | 1 | 2 | 150 | 0 | 2.3 | 3 | 0.0 | 6.0 | 0 |\n",
       "| 67 | 1 | 4 | 160 | 286 | 0 | 2 | 108 | 1 | 1.5 | 2 | 3.0 | 3.0 | 2 |\n",
       "| 67 | 1 | 4 | 120 | 229 | 0 | 2 | 129 | 1 | 2.6 | 2 | 2.0 | 7.0 | 1 |\n",
       "| ⋮ | ⋮ | ⋮ | ⋮ | ⋮ | ⋮ | ⋮ | ⋮ | ⋮ | ⋮ | ⋮ | ⋮ | ⋮ | ⋮ |\n",
       "| 57 | 0 | 4 | 120 | 354 | 0 | 0 | 163 | 1 | 0.6 | 1 | 0.0 | 3.0 | 0 |\n",
       "| 63 | 1 | 4 | 130 | 254 | 0 | 2 | 147 | 0 | 1.4 | 2 | 1.0 | 7.0 | 2 |\n",
       "| 53 | 1 | 4 | 140 | 203 | 1 | 2 | 155 | 1 | 3.1 | 3 | 0.0 | 7.0 | 1 |\n",
       "\n"
      ],
      "text/plain": [
       "   age sex cp trestbps chol fbs restecg thalach exang oldpeak slope ca  thal\n",
       "1  63  1   1  145      233  1   2       150     0     2.3     3     0.0 6.0 \n",
       "2  67  1   4  160      286  0   2       108     1     1.5     2     3.0 3.0 \n",
       "3  67  1   4  120      229  0   2       129     1     2.6     2     2.0 7.0 \n",
       "⋮  ⋮   ⋮   ⋮  ⋮        ⋮    ⋮   ⋮       ⋮       ⋮     ⋮       ⋮     ⋮   ⋮   \n",
       "8  57  0   4  120      354  0   0       163     1     0.6     1     0.0 3.0 \n",
       "9  63  1   4  130      254  0   2       147     0     1.4     2     1.0 7.0 \n",
       "10 53  1   4  140      203  1   2       155     1     3.1     3     0.0 7.0 \n",
       "   num\n",
       "1  0  \n",
       "2  2  \n",
       "3  1  \n",
       "⋮  ⋮  \n",
       "8  0  \n",
       "9  2  \n",
       "10 1  "
      ]
     },
     "metadata": {},
     "output_type": "display_data"
    }
   ],
   "source": [
    "heart_disease_original <- read_csv(\"data/processed.cleveland.data\", \n",
    "                                   # add column names\n",
    "                                   col_names = c(\"age\",\n",
    "                                                 \"sex\",\n",
    "                                                 \"cp\", \n",
    "                                                 \"trestbps\", \n",
    "                                                 \"chol\", \n",
    "                                                 \"fbs\", \n",
    "                                                 \"restecg\", \n",
    "                                                 \"thalach\", \n",
    "                                                 \"exang\", \n",
    "                                                 \"oldpeak\", \n",
    "                                                 \"slope\", \n",
    "                                                 \"ca\", \n",
    "                                                 \"thal\", \n",
    "                                                 \"num\"))\n",
    "\n",
    "head(heart_disease_original, 10)"
   ]
  },
  {
   "cell_type": "markdown",
   "id": "e3576eb8-e05b-4504-a151-bac4d2234f12",
   "metadata": {},
   "source": [
    "Wrangle the data set by changing the types, filtering essentially NA values and changing values to be easily interpretable."
   ]
  },
  {
   "cell_type": "code",
   "execution_count": 4,
   "id": "540ed0c1-41eb-4449-b780-630d1e053e4c",
   "metadata": {},
   "outputs": [
    {
     "data": {
      "text/html": [
       "<table class=\"dataframe\">\n",
       "<caption>A tibble: 10 × 14</caption>\n",
       "<thead>\n",
       "\t<tr><th scope=col>age</th><th scope=col>sex</th><th scope=col>cp</th><th scope=col>trestbps</th><th scope=col>chol</th><th scope=col>fbs</th><th scope=col>restecg</th><th scope=col>thalach</th><th scope=col>exang</th><th scope=col>oldpeak</th><th scope=col>slope</th><th scope=col>ca</th><th scope=col>thal</th><th scope=col>num</th></tr>\n",
       "\t<tr><th scope=col>&lt;dbl&gt;</th><th scope=col>&lt;dbl&gt;</th><th scope=col>&lt;dbl&gt;</th><th scope=col>&lt;dbl&gt;</th><th scope=col>&lt;dbl&gt;</th><th scope=col>&lt;dbl&gt;</th><th scope=col>&lt;dbl&gt;</th><th scope=col>&lt;dbl&gt;</th><th scope=col>&lt;dbl&gt;</th><th scope=col>&lt;dbl&gt;</th><th scope=col>&lt;dbl&gt;</th><th scope=col>&lt;dbl&gt;</th><th scope=col>&lt;dbl&gt;</th><th scope=col>&lt;fct&gt;</th></tr>\n",
       "</thead>\n",
       "<tbody>\n",
       "\t<tr><td>63</td><td>1</td><td>1</td><td>145</td><td>233</td><td>1</td><td>2</td><td>150</td><td>0</td><td>2.3</td><td>3</td><td>0</td><td>6</td><td>0</td></tr>\n",
       "\t<tr><td>67</td><td>1</td><td>4</td><td>160</td><td>286</td><td>0</td><td>2</td><td>108</td><td>1</td><td>1.5</td><td>2</td><td>3</td><td>3</td><td>2</td></tr>\n",
       "\t<tr><td>67</td><td>1</td><td>4</td><td>120</td><td>229</td><td>0</td><td>2</td><td>129</td><td>1</td><td>2.6</td><td>2</td><td>2</td><td>7</td><td>1</td></tr>\n",
       "\t<tr><td>⋮</td><td>⋮</td><td>⋮</td><td>⋮</td><td>⋮</td><td>⋮</td><td>⋮</td><td>⋮</td><td>⋮</td><td>⋮</td><td>⋮</td><td>⋮</td><td>⋮</td><td>⋮</td></tr>\n",
       "\t<tr><td>57</td><td>0</td><td>4</td><td>120</td><td>354</td><td>0</td><td>0</td><td>163</td><td>1</td><td>0.6</td><td>1</td><td>0</td><td>3</td><td>0</td></tr>\n",
       "\t<tr><td>63</td><td>1</td><td>4</td><td>130</td><td>254</td><td>0</td><td>2</td><td>147</td><td>0</td><td>1.4</td><td>2</td><td>1</td><td>7</td><td>2</td></tr>\n",
       "\t<tr><td>53</td><td>1</td><td>4</td><td>140</td><td>203</td><td>1</td><td>2</td><td>155</td><td>1</td><td>3.1</td><td>3</td><td>0</td><td>7</td><td>1</td></tr>\n",
       "</tbody>\n",
       "</table>\n"
      ],
      "text/latex": [
       "A tibble: 10 × 14\n",
       "\\begin{tabular}{llllllllllllll}\n",
       " age & sex & cp & trestbps & chol & fbs & restecg & thalach & exang & oldpeak & slope & ca & thal & num\\\\\n",
       " <dbl> & <dbl> & <dbl> & <dbl> & <dbl> & <dbl> & <dbl> & <dbl> & <dbl> & <dbl> & <dbl> & <dbl> & <dbl> & <fct>\\\\\n",
       "\\hline\n",
       "\t 63 & 1 & 1 & 145 & 233 & 1 & 2 & 150 & 0 & 2.3 & 3 & 0 & 6 & 0\\\\\n",
       "\t 67 & 1 & 4 & 160 & 286 & 0 & 2 & 108 & 1 & 1.5 & 2 & 3 & 3 & 2\\\\\n",
       "\t 67 & 1 & 4 & 120 & 229 & 0 & 2 & 129 & 1 & 2.6 & 2 & 2 & 7 & 1\\\\\n",
       "\t ⋮ & ⋮ & ⋮ & ⋮ & ⋮ & ⋮ & ⋮ & ⋮ & ⋮ & ⋮ & ⋮ & ⋮ & ⋮ & ⋮\\\\\n",
       "\t 57 & 0 & 4 & 120 & 354 & 0 & 0 & 163 & 1 & 0.6 & 1 & 0 & 3 & 0\\\\\n",
       "\t 63 & 1 & 4 & 130 & 254 & 0 & 2 & 147 & 0 & 1.4 & 2 & 1 & 7 & 2\\\\\n",
       "\t 53 & 1 & 4 & 140 & 203 & 1 & 2 & 155 & 1 & 3.1 & 3 & 0 & 7 & 1\\\\\n",
       "\\end{tabular}\n"
      ],
      "text/markdown": [
       "\n",
       "A tibble: 10 × 14\n",
       "\n",
       "| age &lt;dbl&gt; | sex &lt;dbl&gt; | cp &lt;dbl&gt; | trestbps &lt;dbl&gt; | chol &lt;dbl&gt; | fbs &lt;dbl&gt; | restecg &lt;dbl&gt; | thalach &lt;dbl&gt; | exang &lt;dbl&gt; | oldpeak &lt;dbl&gt; | slope &lt;dbl&gt; | ca &lt;dbl&gt; | thal &lt;dbl&gt; | num &lt;fct&gt; |\n",
       "|---|---|---|---|---|---|---|---|---|---|---|---|---|---|\n",
       "| 63 | 1 | 1 | 145 | 233 | 1 | 2 | 150 | 0 | 2.3 | 3 | 0 | 6 | 0 |\n",
       "| 67 | 1 | 4 | 160 | 286 | 0 | 2 | 108 | 1 | 1.5 | 2 | 3 | 3 | 2 |\n",
       "| 67 | 1 | 4 | 120 | 229 | 0 | 2 | 129 | 1 | 2.6 | 2 | 2 | 7 | 1 |\n",
       "| ⋮ | ⋮ | ⋮ | ⋮ | ⋮ | ⋮ | ⋮ | ⋮ | ⋮ | ⋮ | ⋮ | ⋮ | ⋮ | ⋮ |\n",
       "| 57 | 0 | 4 | 120 | 354 | 0 | 0 | 163 | 1 | 0.6 | 1 | 0 | 3 | 0 |\n",
       "| 63 | 1 | 4 | 130 | 254 | 0 | 2 | 147 | 0 | 1.4 | 2 | 1 | 7 | 2 |\n",
       "| 53 | 1 | 4 | 140 | 203 | 1 | 2 | 155 | 1 | 3.1 | 3 | 0 | 7 | 1 |\n",
       "\n"
      ],
      "text/plain": [
       "   age sex cp trestbps chol fbs restecg thalach exang oldpeak slope ca thal num\n",
       "1  63  1   1  145      233  1   2       150     0     2.3     3     0  6    0  \n",
       "2  67  1   4  160      286  0   2       108     1     1.5     2     3  3    2  \n",
       "3  67  1   4  120      229  0   2       129     1     2.6     2     2  7    1  \n",
       "⋮  ⋮   ⋮   ⋮  ⋮        ⋮    ⋮   ⋮       ⋮       ⋮     ⋮       ⋮     ⋮  ⋮    ⋮  \n",
       "8  57  0   4  120      354  0   0       163     1     0.6     1     0  3    0  \n",
       "9  63  1   4  130      254  0   2       147     0     1.4     2     1  7    2  \n",
       "10 53  1   4  140      203  1   2       155     1     3.1     3     0  7    1  "
      ]
     },
     "metadata": {},
     "output_type": "display_data"
    }
   ],
   "source": [
    "heart_disease <- heart_disease_original |> \n",
    "\n",
    "                    # remove all rows that contain a question\n",
    "                    # mark (esentially NA values) to supress\n",
    "                    # warnings from R\n",
    "                    filter(thal != \"?\", ca != \"?\") |>\n",
    "\n",
    "                    # change columns ca and thal to be numeric\n",
    "                    # to allow for tidymodels to work properly\n",
    "                    mutate(ca = as.numeric(ca),\n",
    "                          thal = as.numeric(thal),\n",
    "                          num = as_factor(num)) |>\n",
    "\n",
    "                    # remove rows with NA values\n",
    "                    na.omit()     \n",
    "\n",
    "head(heart_disease, 10)"
   ]
  },
  {
   "cell_type": "markdown",
   "id": "eadc45af-2e5f-4fb7-8433-a3c4b1223692",
   "metadata": {},
   "source": [
    "Let's check the distribution for our factor variable `num`. "
   ]
  },
  {
   "cell_type": "code",
   "execution_count": 5,
   "id": "8b253309-edda-4ea6-9e9b-926d88e1192d",
   "metadata": {},
   "outputs": [
    {
     "data": {
      "text/html": [
       "<table class=\"dataframe\">\n",
       "<caption>A tibble: 5 × 2</caption>\n",
       "<thead>\n",
       "\t<tr><th scope=col>num</th><th scope=col>count</th></tr>\n",
       "\t<tr><th scope=col>&lt;fct&gt;</th><th scope=col>&lt;int&gt;</th></tr>\n",
       "</thead>\n",
       "<tbody>\n",
       "\t<tr><td>0</td><td>160</td></tr>\n",
       "\t<tr><td>1</td><td> 54</td></tr>\n",
       "\t<tr><td>2</td><td> 35</td></tr>\n",
       "\t<tr><td>3</td><td> 35</td></tr>\n",
       "\t<tr><td>4</td><td> 13</td></tr>\n",
       "</tbody>\n",
       "</table>\n"
      ],
      "text/latex": [
       "A tibble: 5 × 2\n",
       "\\begin{tabular}{ll}\n",
       " num & count\\\\\n",
       " <fct> & <int>\\\\\n",
       "\\hline\n",
       "\t 0 & 160\\\\\n",
       "\t 1 &  54\\\\\n",
       "\t 2 &  35\\\\\n",
       "\t 3 &  35\\\\\n",
       "\t 4 &  13\\\\\n",
       "\\end{tabular}\n"
      ],
      "text/markdown": [
       "\n",
       "A tibble: 5 × 2\n",
       "\n",
       "| num &lt;fct&gt; | count &lt;int&gt; |\n",
       "|---|---|\n",
       "| 0 | 160 |\n",
       "| 1 |  54 |\n",
       "| 2 |  35 |\n",
       "| 3 |  35 |\n",
       "| 4 |  13 |\n",
       "\n"
      ],
      "text/plain": [
       "  num count\n",
       "1 0   160  \n",
       "2 1    54  \n",
       "3 2    35  \n",
       "4 3    35  \n",
       "5 4    13  "
      ]
     },
     "metadata": {},
     "output_type": "display_data"
    }
   ],
   "source": [
    "heart_disease |> \n",
    "   group_by(num) |> \n",
    "   summarize(count = n())"
   ]
  },
  {
   "cell_type": "markdown",
   "id": "865800de-6ea4-476a-ac10-8b97acae5623",
   "metadata": {},
   "source": [
    "It looks like there is an uneven proportion of data where num = 1, 2, 3 or 4. Therefore, since a `num` value of 0 just represents no heart disease present and a `num` value of 1-4 means varying levels of heart disease, we can convert this dataset to just give us a binary value of 0 or 1. If it's 0, then we know there is no heart disease present in the patient. If it's 1, then we can do further testing to determine how much heart disease is present.\n",
    "\n",
    "Modify the num attribute so that it only contains 0 (< 50% diameter narrowing) and 1 (> 50% diameter narrowing)."
   ]
  },
  {
   "cell_type": "code",
   "execution_count": 6,
   "id": "8739852e-c0ff-4d59-9c01-c7a295dcde07",
   "metadata": {},
   "outputs": [
    {
     "data": {
      "text/html": [
       "<table class=\"dataframe\">\n",
       "<caption>A tibble: 10 × 14</caption>\n",
       "<thead>\n",
       "\t<tr><th scope=col>age</th><th scope=col>sex</th><th scope=col>cp</th><th scope=col>trestbps</th><th scope=col>chol</th><th scope=col>fbs</th><th scope=col>restecg</th><th scope=col>thalach</th><th scope=col>exang</th><th scope=col>oldpeak</th><th scope=col>slope</th><th scope=col>ca</th><th scope=col>thal</th><th scope=col>num</th></tr>\n",
       "\t<tr><th scope=col>&lt;dbl&gt;</th><th scope=col>&lt;dbl&gt;</th><th scope=col>&lt;dbl&gt;</th><th scope=col>&lt;dbl&gt;</th><th scope=col>&lt;dbl&gt;</th><th scope=col>&lt;dbl&gt;</th><th scope=col>&lt;dbl&gt;</th><th scope=col>&lt;dbl&gt;</th><th scope=col>&lt;dbl&gt;</th><th scope=col>&lt;dbl&gt;</th><th scope=col>&lt;dbl&gt;</th><th scope=col>&lt;dbl&gt;</th><th scope=col>&lt;dbl&gt;</th><th scope=col>&lt;fct&gt;</th></tr>\n",
       "</thead>\n",
       "<tbody>\n",
       "\t<tr><td>63</td><td>1</td><td>1</td><td>145</td><td>233</td><td>1</td><td>2</td><td>150</td><td>0</td><td>2.3</td><td>3</td><td>0</td><td>6</td><td>0</td></tr>\n",
       "\t<tr><td>67</td><td>1</td><td>4</td><td>160</td><td>286</td><td>0</td><td>2</td><td>108</td><td>1</td><td>1.5</td><td>2</td><td>3</td><td>3</td><td>1</td></tr>\n",
       "\t<tr><td>67</td><td>1</td><td>4</td><td>120</td><td>229</td><td>0</td><td>2</td><td>129</td><td>1</td><td>2.6</td><td>2</td><td>2</td><td>7</td><td>1</td></tr>\n",
       "\t<tr><td>⋮</td><td>⋮</td><td>⋮</td><td>⋮</td><td>⋮</td><td>⋮</td><td>⋮</td><td>⋮</td><td>⋮</td><td>⋮</td><td>⋮</td><td>⋮</td><td>⋮</td><td>⋮</td></tr>\n",
       "\t<tr><td>57</td><td>0</td><td>4</td><td>120</td><td>354</td><td>0</td><td>0</td><td>163</td><td>1</td><td>0.6</td><td>1</td><td>0</td><td>3</td><td>0</td></tr>\n",
       "\t<tr><td>63</td><td>1</td><td>4</td><td>130</td><td>254</td><td>0</td><td>2</td><td>147</td><td>0</td><td>1.4</td><td>2</td><td>1</td><td>7</td><td>1</td></tr>\n",
       "\t<tr><td>53</td><td>1</td><td>4</td><td>140</td><td>203</td><td>1</td><td>2</td><td>155</td><td>1</td><td>3.1</td><td>3</td><td>0</td><td>7</td><td>1</td></tr>\n",
       "</tbody>\n",
       "</table>\n"
      ],
      "text/latex": [
       "A tibble: 10 × 14\n",
       "\\begin{tabular}{llllllllllllll}\n",
       " age & sex & cp & trestbps & chol & fbs & restecg & thalach & exang & oldpeak & slope & ca & thal & num\\\\\n",
       " <dbl> & <dbl> & <dbl> & <dbl> & <dbl> & <dbl> & <dbl> & <dbl> & <dbl> & <dbl> & <dbl> & <dbl> & <dbl> & <fct>\\\\\n",
       "\\hline\n",
       "\t 63 & 1 & 1 & 145 & 233 & 1 & 2 & 150 & 0 & 2.3 & 3 & 0 & 6 & 0\\\\\n",
       "\t 67 & 1 & 4 & 160 & 286 & 0 & 2 & 108 & 1 & 1.5 & 2 & 3 & 3 & 1\\\\\n",
       "\t 67 & 1 & 4 & 120 & 229 & 0 & 2 & 129 & 1 & 2.6 & 2 & 2 & 7 & 1\\\\\n",
       "\t ⋮ & ⋮ & ⋮ & ⋮ & ⋮ & ⋮ & ⋮ & ⋮ & ⋮ & ⋮ & ⋮ & ⋮ & ⋮ & ⋮\\\\\n",
       "\t 57 & 0 & 4 & 120 & 354 & 0 & 0 & 163 & 1 & 0.6 & 1 & 0 & 3 & 0\\\\\n",
       "\t 63 & 1 & 4 & 130 & 254 & 0 & 2 & 147 & 0 & 1.4 & 2 & 1 & 7 & 1\\\\\n",
       "\t 53 & 1 & 4 & 140 & 203 & 1 & 2 & 155 & 1 & 3.1 & 3 & 0 & 7 & 1\\\\\n",
       "\\end{tabular}\n"
      ],
      "text/markdown": [
       "\n",
       "A tibble: 10 × 14\n",
       "\n",
       "| age &lt;dbl&gt; | sex &lt;dbl&gt; | cp &lt;dbl&gt; | trestbps &lt;dbl&gt; | chol &lt;dbl&gt; | fbs &lt;dbl&gt; | restecg &lt;dbl&gt; | thalach &lt;dbl&gt; | exang &lt;dbl&gt; | oldpeak &lt;dbl&gt; | slope &lt;dbl&gt; | ca &lt;dbl&gt; | thal &lt;dbl&gt; | num &lt;fct&gt; |\n",
       "|---|---|---|---|---|---|---|---|---|---|---|---|---|---|\n",
       "| 63 | 1 | 1 | 145 | 233 | 1 | 2 | 150 | 0 | 2.3 | 3 | 0 | 6 | 0 |\n",
       "| 67 | 1 | 4 | 160 | 286 | 0 | 2 | 108 | 1 | 1.5 | 2 | 3 | 3 | 1 |\n",
       "| 67 | 1 | 4 | 120 | 229 | 0 | 2 | 129 | 1 | 2.6 | 2 | 2 | 7 | 1 |\n",
       "| ⋮ | ⋮ | ⋮ | ⋮ | ⋮ | ⋮ | ⋮ | ⋮ | ⋮ | ⋮ | ⋮ | ⋮ | ⋮ | ⋮ |\n",
       "| 57 | 0 | 4 | 120 | 354 | 0 | 0 | 163 | 1 | 0.6 | 1 | 0 | 3 | 0 |\n",
       "| 63 | 1 | 4 | 130 | 254 | 0 | 2 | 147 | 0 | 1.4 | 2 | 1 | 7 | 1 |\n",
       "| 53 | 1 | 4 | 140 | 203 | 1 | 2 | 155 | 1 | 3.1 | 3 | 0 | 7 | 1 |\n",
       "\n"
      ],
      "text/plain": [
       "   age sex cp trestbps chol fbs restecg thalach exang oldpeak slope ca thal num\n",
       "1  63  1   1  145      233  1   2       150     0     2.3     3     0  6    0  \n",
       "2  67  1   4  160      286  0   2       108     1     1.5     2     3  3    1  \n",
       "3  67  1   4  120      229  0   2       129     1     2.6     2     2  7    1  \n",
       "⋮  ⋮   ⋮   ⋮  ⋮        ⋮    ⋮   ⋮       ⋮       ⋮     ⋮       ⋮     ⋮  ⋮    ⋮  \n",
       "8  57  0   4  120      354  0   0       163     1     0.6     1     0  3    0  \n",
       "9  63  1   4  130      254  0   2       147     0     1.4     2     1  7    1  \n",
       "10 53  1   4  140      203  1   2       155     1     3.1     3     0  7    1  "
      ]
     },
     "metadata": {},
     "output_type": "display_data"
    }
   ],
   "source": [
    "# if num is equal to 2, 3, or 4, change it to 1\n",
    "heart_disease$num[heart_disease$num == 1 | heart_disease$num == 2 | heart_disease$num == 3 | heart_disease$num == 4] = 1\n",
    "\n",
    "head(heart_disease, 10)"
   ]
  },
  {
   "cell_type": "markdown",
   "id": "a4f3faae-9867-455f-9038-e9479639bf8c",
   "metadata": {},
   "source": [
    "### Split the dataset into training set and testing set."
   ]
  },
  {
   "cell_type": "code",
   "execution_count": 7,
   "id": "40e49113-7139-4fa7-9879-e442386e02d5",
   "metadata": {},
   "outputs": [
    {
     "name": "stdout",
     "output_type": "stream",
     "text": [
      "\u001b[90m# A tibble: 222 × 14\u001b[39m\n",
      "     age   sex    cp trestbps  chol   fbs restecg thalach exang oldpeak slope\n",
      "   \u001b[3m\u001b[90m<dbl>\u001b[39m\u001b[23m \u001b[3m\u001b[90m<dbl>\u001b[39m\u001b[23m \u001b[3m\u001b[90m<dbl>\u001b[39m\u001b[23m    \u001b[3m\u001b[90m<dbl>\u001b[39m\u001b[23m \u001b[3m\u001b[90m<dbl>\u001b[39m\u001b[23m \u001b[3m\u001b[90m<dbl>\u001b[39m\u001b[23m   \u001b[3m\u001b[90m<dbl>\u001b[39m\u001b[23m   \u001b[3m\u001b[90m<dbl>\u001b[39m\u001b[23m \u001b[3m\u001b[90m<dbl>\u001b[39m\u001b[23m   \u001b[3m\u001b[90m<dbl>\u001b[39m\u001b[23m \u001b[3m\u001b[90m<dbl>\u001b[39m\u001b[23m\n",
      "\u001b[90m 1\u001b[39m    63     1     1      145   233     1       2     150     0     2.3     3\n",
      "\u001b[90m 2\u001b[39m    37     1     3      130   250     0       0     187     0     3.5     3\n",
      "\u001b[90m 3\u001b[39m    41     0     2      130   204     0       2     172     0     1.4     1\n",
      "\u001b[90m 4\u001b[39m    56     1     2      120   236     0       0     178     0     0.8     1\n",
      "\u001b[90m 5\u001b[39m    57     0     4      120   354     0       0     163     1     0.6     1\n",
      "\u001b[90m 6\u001b[39m    57     1     4      140   192     0       0     148     0     0.4     2\n",
      "\u001b[90m 7\u001b[39m    56     0     2      140   294     0       2     153     0     1.3     2\n",
      "\u001b[90m 8\u001b[39m    57     1     3      150   168     0       0     174     0     1.6     1\n",
      "\u001b[90m 9\u001b[39m    49     1     2      130   266     0       0     171     0     0.6     1\n",
      "\u001b[90m10\u001b[39m    58     0     1      150   283     1       2     162     0     1       1\n",
      "\u001b[90m# … with 212 more rows, and 3 more variables: ca <dbl>, thal <dbl>, num <fct>\u001b[39m\n"
     ]
    }
   ],
   "source": [
    "set.seed(2000)\n",
    "\n",
    "heart_disease_split <- initial_split(heart_disease, prop = 0.75, strata = num)\n",
    "heart_disease_training <- training(heart_disease_split)\n",
    "heart_disease_testing <- testing(heart_disease_split)\n",
    "\n",
    "print(heart_disease_training)"
   ]
  },
  {
   "cell_type": "markdown",
   "id": "10217371-feec-4371-bac3-6d33828c15d3",
   "metadata": {},
   "source": [
    "age: age in years\n",
    "\n",
    "sex: sex (1 = male; 0 = female)\n",
    "\n",
    "cp: chest pain type\n",
    "\n",
    "* Value 1: typical angina\n",
    "\n",
    "* Value 2: atypical angina\n",
    "\n",
    "* Value 3: non-anginal pain\n",
    "\n",
    "* Value 4: asymptomatic\n",
    "\n",
    "trestbps: resting blood pressure (in mm Hg on admission to the hospital)\n",
    "\n",
    "chol: serum cholestoral in mg/dl\n",
    "\n",
    "fbs: (fasting blood sugar > 120 mg/dl) (1 = true; 0 = false)\n",
    "\n",
    "restecg: resting electrocardiographic results\n",
    "\n",
    "thalach: maximum heart rate achieved\n",
    "\n",
    "exang: exercise induced angina (1 = yes; 0 = no)\n",
    "\n",
    "oldpeak = ST depression induced by exercise relative to rest\n",
    "\n",
    "slope: the slope of the peak exercise ST segment\n",
    "\n",
    "* Value 1: upsloping\n",
    "\n",
    "* Value 2: flat\n",
    "\n",
    "* Value 3: downsloping\n",
    "\n",
    "ca: number of major vessels (0-3) colored by flourosopy\n",
    "\n",
    "thal: 3 = normal; 6 = fixed defect; 7 = reversable defect\n",
    "\n",
    "num: diagnosis of heart disease (angiographic disease status)\n",
    "\n",
    "* Value 0: < 50% diameter narrowing\n",
    "\n",
    "* Value 1: > 50% diameter narrowing\n"
   ]
  },
  {
   "cell_type": "markdown",
   "id": "74e873af-cc2f-4bb3-86d3-ad62f1d00276",
   "metadata": {},
   "source": [
    "Section 6.8.3 of the data science textbook briefly mentions the method of forward selection in R. However, the method it shows is far too manual. The more manual we make our program, the more prone it is to errors. Therefore, we will be using the `MASS` library to import a few functions which allow us to do the same thing.\n",
    "\n",
    "We have 14 predictors and, given our limited biology knowledge, we can't seem to easily dismiss any predictors that would have no correlation with the presence of heart disease. Therefore, instead of forward selection, we will use backward selection to remove one predictor at a time. Then, we will check if the `AIC` of the new model goes down. We will remove the predictor which lowers the `AIC` the most until we get to a point where removing predictors increases `AIC`. "
   ]
  },
  {
   "cell_type": "code",
   "execution_count": 8,
   "id": "e0d5294f-8339-4f64-b469-4c4d9618997e",
   "metadata": {},
   "outputs": [],
   "source": [
    "heart_disease_training_aic <- heart_disease_training |>\n",
    "    mutate(ca = as.numeric(ca),\n",
    "           thal = as.numeric(thal),\n",
    "           num = as.numeric(num))"
   ]
  },
  {
   "cell_type": "code",
   "execution_count": 9,
   "id": "3a41ec3c-dd13-4af9-8f84-6e7aa70e0bce",
   "metadata": {},
   "outputs": [
    {
     "name": "stdout",
     "output_type": "stream",
     "text": [
      "Start:  AIC=-446.84\n",
      "num ~ age + sex + cp + trestbps + chol + fbs + restecg + thalach + \n",
      "    exang + oldpeak + slope + ca + thal\n",
      "\n",
      "           Df Sum of Sq    RSS     AIC\n",
      "- age       1   0.00258 26.151 -448.81\n",
      "- chol      1   0.04695 26.195 -448.44\n",
      "- trestbps  1   0.11120 26.259 -447.89\n",
      "- restecg   1   0.12348 26.271 -447.79\n",
      "- fbs       1   0.16676 26.315 -447.43\n",
      "- thalach   1   0.21345 26.361 -447.03\n",
      "<none>                  26.148 -446.84\n",
      "- slope     1   0.23962 26.388 -446.81\n",
      "- oldpeak   1   0.39217 26.540 -445.53\n",
      "- exang     1   0.87443 27.023 -441.53\n",
      "- thal      1   0.99885 27.147 -440.51\n",
      "- sex       1   1.07920 27.227 -439.86\n",
      "- cp        1   1.33336 27.481 -437.80\n",
      "- ca        1   2.75647 28.904 -426.59\n",
      "\n",
      "Step:  AIC=-448.81\n",
      "num ~ sex + cp + trestbps + chol + fbs + restecg + thalach + \n",
      "    exang + oldpeak + slope + ca + thal\n",
      "\n",
      "           Df Sum of Sq    RSS     AIC\n",
      "- chol      1   0.04468 26.195 -450.44\n",
      "- trestbps  1   0.10873 26.259 -449.89\n",
      "- restecg   1   0.12235 26.273 -449.78\n",
      "- fbs       1   0.16924 26.320 -449.38\n",
      "- thalach   1   0.22426 26.375 -448.92\n",
      "<none>                  26.151 -448.81\n",
      "- slope     1   0.23941 26.390 -448.79\n",
      "- oldpeak   1   0.39501 26.546 -447.49\n",
      "- exang     1   0.88973 27.040 -443.39\n",
      "- thal      1   0.99679 27.147 -442.51\n",
      "- sex       1   1.11343 27.264 -441.56\n",
      "- cp        1   1.35131 27.502 -439.63\n",
      "- ca        1   2.88312 29.034 -427.60\n",
      "\n",
      "Step:  AIC=-450.44\n",
      "num ~ sex + cp + trestbps + fbs + restecg + thalach + exang + \n",
      "    oldpeak + slope + ca + thal\n",
      "\n",
      "           Df Sum of Sq    RSS     AIC\n",
      "- trestbps  1   0.10549 26.301 -451.54\n",
      "- restecg   1   0.15361 26.349 -451.14\n",
      "- fbs       1   0.17163 26.367 -450.99\n",
      "- thalach   1   0.21146 26.407 -450.65\n",
      "- slope     1   0.22086 26.416 -450.57\n",
      "<none>                  26.195 -450.44\n",
      "- oldpeak   1   0.41427 26.610 -448.95\n",
      "- exang     1   0.94386 27.139 -444.58\n",
      "- thal      1   1.05000 27.245 -443.71\n",
      "- sex       1   1.06892 27.264 -443.56\n",
      "- cp        1   1.33054 27.526 -441.44\n",
      "- ca        1   2.93029 29.126 -428.90\n",
      "\n",
      "Step:  AIC=-451.54\n",
      "num ~ sex + cp + fbs + restecg + thalach + exang + oldpeak + \n",
      "    slope + ca + thal\n",
      "\n",
      "          Df Sum of Sq    RSS     AIC\n",
      "- fbs      1   0.12488 26.426 -452.49\n",
      "- thalach  1   0.19836 26.499 -451.88\n",
      "- restecg  1   0.19866 26.500 -451.87\n",
      "- slope    1   0.20941 26.510 -451.78\n",
      "<none>                 26.301 -451.54\n",
      "- oldpeak  1   0.49062 26.791 -449.44\n",
      "- exang    1   0.96033 27.261 -445.58\n",
      "- sex      1   0.99141 27.292 -445.33\n",
      "- thal     1   1.21147 27.512 -443.55\n",
      "- cp       1   1.25634 27.557 -443.18\n",
      "- ca       1   2.91256 29.213 -430.23\n",
      "\n",
      "Step:  AIC=-452.49\n",
      "num ~ sex + cp + restecg + thalach + exang + oldpeak + slope + \n",
      "    ca + thal\n",
      "\n",
      "          Df Sum of Sq    RSS     AIC\n",
      "- restecg  1   0.17503 26.601 -453.03\n",
      "- slope    1   0.19717 26.623 -452.84\n",
      "- thalach  1   0.20392 26.630 -452.79\n",
      "<none>                 26.426 -452.49\n",
      "- oldpeak  1   0.51010 26.936 -450.25\n",
      "- exang    1   0.95827 27.384 -446.58\n",
      "- sex      1   0.99056 27.416 -446.32\n",
      "- thal     1   1.17063 27.596 -444.87\n",
      "- cp       1   1.38254 27.808 -443.17\n",
      "- ca       1   2.79064 29.216 -432.20\n",
      "\n",
      "Step:  AIC=-453.03\n",
      "num ~ sex + cp + thalach + exang + oldpeak + slope + ca + thal\n",
      "\n",
      "          Df Sum of Sq    RSS     AIC\n",
      "- thalach  1   0.20724 26.808 -453.30\n",
      "<none>                 26.601 -453.03\n",
      "- slope    1   0.26981 26.870 -452.79\n",
      "- oldpeak  1   0.48507 27.086 -451.01\n",
      "- exang    1   0.99635 27.597 -446.86\n",
      "- sex      1   1.02967 27.630 -446.60\n",
      "- thal     1   1.07442 27.675 -446.24\n",
      "- cp       1   1.41678 28.017 -443.51\n",
      "- ca       1   2.93402 29.535 -431.80\n",
      "\n",
      "Step:  AIC=-453.3\n",
      "num ~ sex + cp + exang + oldpeak + slope + ca + thal\n",
      "\n",
      "          Df Sum of Sq    RSS     AIC\n",
      "<none>                 26.808 -453.30\n",
      "- slope    1    0.4062 27.214 -451.96\n",
      "- oldpeak  1    0.5201 27.328 -451.04\n",
      "- sex      1    0.9816 27.790 -447.32\n",
      "- exang    1    1.2071 28.015 -445.53\n",
      "- thal     1    1.2457 28.054 -445.22\n",
      "- cp       1    1.6675 28.476 -441.91\n",
      "- ca       1    3.1959 30.004 -430.30\n"
     ]
    },
    {
     "data": {
      "text/plain": [
       "\n",
       "Call:\n",
       "lm(formula = num ~ sex + cp + exang + oldpeak + slope + ca + \n",
       "    thal, data = heart_disease_training_aic)\n",
       "\n",
       "Coefficients:\n",
       "(Intercept)          sex           cp        exang      oldpeak        slope  \n",
       "    0.42420      0.15331      0.10901      0.18233      0.05780      0.08773  \n",
       "         ca         thal  \n",
       "    0.14333      0.04742  \n"
      ]
     },
     "metadata": {},
     "output_type": "display_data"
    }
   ],
   "source": [
    "null <- lm(num ~ 1, data = heart_disease_training_aic) # 1 here means the intercept \n",
    "full <- lm(num ~ ., data = heart_disease_training_aic)\n",
    " \n",
    "(stepAIC(full, scope = list(lower = null, upper=full), \n",
    "         data = heart_disease_training_aic,\n",
    "         direction='backward'))"
   ]
  },
  {
   "cell_type": "markdown",
   "id": "1b150c56-f03e-4819-83cb-1aaacca67a1d",
   "metadata": {},
   "source": [
    "Looking at the output of `stepAIC`, it looks like it suggests that sex, cp, exang, oldpeak, slope, ca, and thal are the predictors which we should use before we start losing accuracy. \n"
   ]
  },
  {
   "cell_type": "code",
   "execution_count": 10,
   "id": "2e6594a4-cb68-409a-9073-3ba4305c4c9d",
   "metadata": {},
   "outputs": [],
   "source": [
    "big_plot <- ggpairs(heart_disease_training, ggplot2::aes(colour=num, alpha = 0.7))"
   ]
  },
  {
   "cell_type": "code",
   "execution_count": null,
   "id": "6bdb5018-9a1f-41dc-aefe-673d07421564",
   "metadata": {},
   "outputs": [],
   "source": [
    "options(repr.plot.width = 30, repr.plot.height = 30)\n",
    "\n",
    "big_plot"
   ]
  },
  {
   "cell_type": "markdown",
   "id": "a9e19695-dd52-4cce-bae8-4947dcb5a3f0",
   "metadata": {},
   "source": [
    "### Using only training data, summarize the data in one table."
   ]
  },
  {
   "cell_type": "markdown",
   "id": "a76c5e09-886d-43fe-9bec-bf56d488d8e4",
   "metadata": {},
   "source": [
    "Count the number of observations for each `thal` value."
   ]
  },
  {
   "cell_type": "code",
   "execution_count": null,
   "id": "49f30307-69ad-4958-a997-76e713839fdd",
   "metadata": {},
   "outputs": [],
   "source": [
    "heart_disease_recipe <- recipe(num ~ sex + cp + exang + oldpeak + slope + ca + thal + trestbps,\n",
    "                               data = heart_disease_training) |>\n",
    "                        step_scale(all_predictors()) |>\n",
    "                        step_center(all_predictors())"
   ]
  },
  {
   "cell_type": "code",
   "execution_count": null,
   "id": "193b5166-4d2b-4799-8039-2f372e0ab1ae",
   "metadata": {},
   "outputs": [],
   "source": [
    "heart_disease_vfold <- vfold_cv(heart_disease_training, v = 5, strata = num)\n",
    "\n",
    "knn_spec_tune <- nearest_neighbor(weight_func = \"rectangular\", neighbors = tune()) |>\n",
    "                 set_engine(\"kknn\") |>\n",
    "                 set_mode(\"classification\")\n",
    "\n",
    "k_vals <- tibble(neighbors = seq(from = 1, to = 100, by = 5))\n",
    "\n",
    "knn_results <- workflow() |>\n",
    "  add_recipe(heart_disease_recipe) |>\n",
    "  add_model(knn_spec_tune) |>\n",
    "  tune_grid(resamples = cancer_vfold, grid = k_vals) |>\n",
    "  collect_metrics() \n",
    "\n",
    "accuracies <- knn_results |>\n",
    "  filter(.metric == \"accuracy\") |>\n",
    "  arrange(desc(mean))\n",
    "\n",
    "accuracies"
   ]
  },
  {
   "cell_type": "code",
   "execution_count": null,
   "id": "fb3f1a09-ff65-434e-bf31-8ba1bc3e2e8e",
   "metadata": {},
   "outputs": [],
   "source": [
    "accuracy_vs_k <- ggplot(accuracies, aes(x = neighbors, y = mean)) +\n",
    "  geom_point() +\n",
    "  geom_line() +\n",
    "  labs(x = \"Neighbors\", y = \"Accuracy Estimate\") + \n",
    "  theme(text = element_text(size = 12))\n",
    "\n",
    "accuracy_vs_k"
   ]
  },
  {
   "cell_type": "code",
   "execution_count": null,
   "id": "d05a8dbb-0547-47df-b919-d89626c1df93",
   "metadata": {},
   "outputs": [],
   "source": [
    "knn_spec <- nearest_neighbor(weight_func = \"rectangular\", \n",
    "                             neighbors = 51) |>\n",
    "  set_engine(\"kknn\") |>\n",
    "  set_mode(\"classification\")\n",
    "\n",
    "knn_fit <- workflow() |>\n",
    "  add_recipe(heart_disease_recipe) |>\n",
    "  add_model(knn_spec) |>\n",
    "  fit(data = heart_disease_training)"
   ]
  },
  {
   "cell_type": "code",
   "execution_count": null,
   "id": "0f8e432b-e891-4114-a133-0d285d8609e8",
   "metadata": {},
   "outputs": [],
   "source": [
    "(heart_disease_test_predictions <- predict(knn_fit, heart_disease_testing) |>\n",
    "  bind_cols(heart_disease_testing))\n",
    "\n",
    "heart_disease_test_predictions |>\n",
    "  metrics(truth = num, estimate = .pred_class) |>\n",
    "  filter(.metric == \"accuracy\")"
   ]
  },
  {
   "cell_type": "code",
   "execution_count": null,
   "id": "de3f0779-659d-405a-9d39-0475de04b13d",
   "metadata": {},
   "outputs": [],
   "source": [
    "confusion <- heart_disease_test_predictions |>\n",
    "             conf_mat(truth = num, estimate = .pred_class)\n",
    "confusion"
   ]
  },
  {
   "cell_type": "code",
   "execution_count": null,
   "id": "30edef43-9519-42ad-a1df-2eb3e3c60d8d",
   "metadata": {},
   "outputs": [],
   "source": [
    "heart_disease_training |> \n",
    "   group_by(num) |> \n",
    "   summarize(count = n()) |>\n",
    "   mutate(percent = 100*count/(120+102))\n",
    "\n",
    "heart_disease_training |> \n",
    "   filter(sex == 1) |>\n",
    "   group_by(num) |> \n",
    "   summarize(count = n()) |>\n",
    "   mutate(percent = 100*count/(120+102))"
   ]
  },
  {
   "cell_type": "markdown",
   "id": "41f10e8a-2117-4f9c-9ec5-a7a6d63d00b6",
   "metadata": {},
   "source": [
    "### Using only training data, visualize the data with a plot."
   ]
  },
  {
   "cell_type": "markdown",
   "id": "33222dac-bf0b-4c00-a098-4cb00bac45b9",
   "metadata": {},
   "source": [
    "Plot the data with age, maximum heart rate achieved and sex."
   ]
  },
  {
   "cell_type": "code",
   "execution_count": null,
   "id": "30638b37-1b36-4bc0-988d-1ec5f954c978",
   "metadata": {},
   "outputs": [],
   "source": []
  },
  {
   "cell_type": "markdown",
   "id": "38744789-47ce-4fcd-8933-4e121643e31f",
   "metadata": {},
   "source": [
    "## Methods\n",
    "\n",
    "sex + cp + exang + oldpeak + slope + ca + thal"
   ]
  },
  {
   "cell_type": "markdown",
   "id": "021cdfd3-7069-41bf-88da-0a01076753f4",
   "metadata": {},
   "source": [
    "- Explain how you will conduct either your data analysis and which variables/columns you will use. Note - you do not need to use all variables/columns that exist in the raw data set. In fact, that's often not a good idea. For each variable think: is this a useful variable for prediction?\n",
    "\n",
    "We will try and use k-nn regression using the indicators of age and maximum heart rate achieved with `num` to see if we can predict the presence of heart disease using the indicators. We will also compare the results between the two sexes to see if these indicators work well with a certain sex or not.\n",
    "\n",
    "- Describe at least one way that you will visualize the results\n",
    "\n",
    "We will use scatter plots to visualize our result. We would also use a heat map to visualize our confusion matrices for different values of $K$. "
   ]
  },
  {
   "cell_type": "markdown",
   "id": "eb3c34ef-0804-4c3f-8219-505c909e0a9c",
   "metadata": {},
   "source": [
    "## Expected outcomes and significance"
   ]
  },
  {
   "cell_type": "markdown",
   "id": "aade5b57-1924-4002-bb95-e218a50d1c23",
   "metadata": {},
   "source": [
    "- What do you expect to find?\n",
    "- What impact could such findings have?\n",
    "- What future questions could this lead to?"
   ]
  },
  {
   "cell_type": "markdown",
   "id": "da413131-afa6-4172-88bf-1cc473e329e0",
   "metadata": {},
   "source": [
    "  We expect to find information pointing towards the best range of conditions individuals should be in to avoid heart diseases. Our findings will show how likely a patient will be diagnosed with a heart disease based on the variables presented. These findings could be used to convey health care information towards the general public. Health care professionals can also use these findings to provide better care and diagnosis. Thereby improving the quality of life for patients of all different backgrounds. These findings could lead to questions about the best way to take care of your heart and future medical innovations. \n"
   ]
  },
  {
   "cell_type": "markdown",
   "id": "b6ee8710-a95b-4159-9fd5-0800770d3d45",
   "metadata": {},
   "source": [
    "# References\n",
    "\n",
    "https://advstats.psychstat.org/book/mregression/selection.php"
   ]
  },
  {
   "cell_type": "code",
   "execution_count": null,
   "id": "3dd3686b-0cfa-4448-8991-f7cd3c0e47a8",
   "metadata": {},
   "outputs": [],
   "source": []
  }
 ],
 "metadata": {
  "kernelspec": {
   "display_name": "R",
   "language": "R",
   "name": "ir"
  },
  "language_info": {
   "codemirror_mode": "r",
   "file_extension": ".r",
   "mimetype": "text/x-r-source",
   "name": "R",
   "pygments_lexer": "r",
   "version": "4.1.3"
  }
 },
 "nbformat": 4,
 "nbformat_minor": 5
}
