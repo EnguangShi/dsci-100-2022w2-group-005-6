{
 "cells": [
  {
   "cell_type": "markdown",
   "id": "8b4fbcd4-9095-4c53-a3c7-b8c4dc450a9b",
   "metadata": {},
   "source": [
    "# Exploration of the Heart Disease Data Set"
   ]
  },
  {
   "cell_type": "markdown",
   "id": "9747d044-dc79-4eaa-b12c-d3318a784c95",
   "metadata": {},
   "source": [
    "## Introduction"
   ]
  },
  {
   "cell_type": "markdown",
   "id": "780ca011-e903-4914-a52c-b4624d819d3e",
   "metadata": {},
   "source": [
    "The dataset is taken from the Cleveland, Ohio database. This dataset is a collaboration with physicians from Hungary, Switzerland, Virginia, and Ohio. It describes the age, sex, and other medical information about the patients that will give information on whether the patient might have heart disease or not. The data set has numerous attributes related to a full medical history of the patient. These attributes include various types of information related to heart disease like chest pain, years as a smoker, family history of heart disease and other related diseases, blood sugar levels, exercise levels, and anginas (chest pain due to reduced blood flow, symptom of coronary artery disease). The last attribute gives a diagnosis of heart disease for that patient, with a value of 0 being a <50% diameter of the vessel narrowing, or a value of 1 being a >50% diameter of the vessel narrowing. This attribute uses angiographys as a way to predict and diagnose heart disease. The values of this field range from 0 to 4 with 0 being no presence and 1-4 a range of presence. An angina is a very clear symptom of heart disease and has various types of anginas (as categorized by the data set with values 1, 2, 3, 4). A typical angina (value = 1) usually lasts for a few minutes and over the counter medicine can make it go away. An atypical angina (value = 2) can get worse over time and may indicate that the person is having a heart attack. A nonanginal pain (value = 3) usually results in pain similar to a normal angina however is due to different causes. Lastly, an asymptomatic angina is when there is an angina occurring, however usually little to no pain is experienced. \n",
    "\n",
    "The question we will try to answer is whether a patient will be diagnosed with heart disease. We have a number of predictors and we will use the technique of backward selection to narrow down our predictors to the few attributes that allow us to predict this most accurately.\n",
    "\n",
    "We will be using the Heart Disease Data set. This database describes 76 attributes but all experiments that have been published use only 14 as a reference. The `num` column describes the presence of heart disease in the patient. The `col_vessels` column indicates the number of major blood vessels colored by flouroscopy. The `slope` column indicates the slope of the peak exercise ST segment (1 = upslope, 2 = flat, 3 = downslope). The `st_depression` column indicates the ST depression induced by exercise relative to rest. The `ex_ang` column indicates whether the patient has exercise induced angina (1 = yes, 0 = no). The `max_hr` column describes inidcates a numerical value of the maximum heart rate achieved. The `rest_ecg` indicates the resting electrocardiac results (0 = normal, 1 = ST-T wave abnormality, 2 = probable/definite left ventricular hypertropy). The `fbs` column inidcates whether the patient has a fasting blood sugar of greater than 120 mg/dl (1 = true, 0 = false). The `chol` column describes the serum cholesterol level in mg/dl per patient. The `rest_bps` indicates the resting blood pressure (mm Hg). The `chest_pain` column describes the chest pain in the patient with varying types of anginas (1 = typical angina, 2 = atypical angina, 3 = nonanginal pain, 4 = asymptomatic). The `sex` column indicates the gender of the patient (1 = male, 0 = female). The `defect` column refers to the defect of the heart (3 = normal, 6 = defect, 7 = reversible defect). Lastly, the `age` column indicates the age of the patient. "
   ]
  },
  {
   "cell_type": "markdown",
   "id": "91dd346e-1cb7-4fd7-9f57-6425ccc79e51",
   "metadata": {},
   "source": [
    "## Preliminary exploratory data analysis"
   ]
  },
  {
   "cell_type": "code",
   "execution_count": 1,
   "id": "68d0ad2d-417e-4d0f-91f2-71fc2bc21163",
   "metadata": {
    "tags": [],
    "vscode": {
     "languageId": "r"
    }
   },
   "outputs": [
    {
     "name": "stderr",
     "output_type": "stream",
     "text": [
      "── \u001b[1mAttaching core tidyverse packages\u001b[22m ────────────────────────────────────────────────────────────────────────────────────────────────────────────────────────────────────── tidyverse 2.0.0 ──\n",
      "\u001b[32m✔\u001b[39m \u001b[34mdplyr    \u001b[39m 1.1.1     \u001b[32m✔\u001b[39m \u001b[34mreadr    \u001b[39m 2.1.4\n",
      "\u001b[32m✔\u001b[39m \u001b[34mforcats  \u001b[39m 1.0.0     \u001b[32m✔\u001b[39m \u001b[34mstringr  \u001b[39m 1.5.0\n",
      "\u001b[32m✔\u001b[39m \u001b[34mggplot2  \u001b[39m 3.4.2     \u001b[32m✔\u001b[39m \u001b[34mtibble   \u001b[39m 3.2.1\n",
      "\u001b[32m✔\u001b[39m \u001b[34mlubridate\u001b[39m 1.9.2     \u001b[32m✔\u001b[39m \u001b[34mtidyr    \u001b[39m 1.3.0\n",
      "\u001b[32m✔\u001b[39m \u001b[34mpurrr    \u001b[39m 1.0.1     \n",
      "── \u001b[1mConflicts\u001b[22m ──────────────────────────────────────────────────────────────────────────────────────────────────────────────────────────────────────────────────────── tidyverse_conflicts() ──\n",
      "\u001b[31m✖\u001b[39m \u001b[34mdplyr\u001b[39m::\u001b[32mfilter()\u001b[39m masks \u001b[34mstats\u001b[39m::filter()\n",
      "\u001b[31m✖\u001b[39m \u001b[34mdplyr\u001b[39m::\u001b[32mlag()\u001b[39m    masks \u001b[34mstats\u001b[39m::lag()\n",
      "\u001b[36mℹ\u001b[39m Use the conflicted package (\u001b[3m\u001b[34m<http://conflicted.r-lib.org/>\u001b[39m\u001b[23m) to force all conflicts to become errors\n",
      "── \u001b[1mAttaching packages\u001b[22m ──────────────────────────────────────────────────────────────────────────────────────────────────────────────────────────────────────────────────── tidymodels 1.0.0 ──\n",
      "\n",
      "\u001b[32m✔\u001b[39m \u001b[34mbroom       \u001b[39m 1.0.4     \u001b[32m✔\u001b[39m \u001b[34mrsample     \u001b[39m 1.1.1\n",
      "\u001b[32m✔\u001b[39m \u001b[34mdials       \u001b[39m 1.2.0     \u001b[32m✔\u001b[39m \u001b[34mtune        \u001b[39m 1.1.1\n",
      "\u001b[32m✔\u001b[39m \u001b[34minfer       \u001b[39m 1.0.4     \u001b[32m✔\u001b[39m \u001b[34mworkflows   \u001b[39m 1.1.3\n",
      "\u001b[32m✔\u001b[39m \u001b[34mmodeldata   \u001b[39m 1.1.0     \u001b[32m✔\u001b[39m \u001b[34mworkflowsets\u001b[39m 1.0.1\n",
      "\u001b[32m✔\u001b[39m \u001b[34mparsnip     \u001b[39m 1.1.0     \u001b[32m✔\u001b[39m \u001b[34myardstick   \u001b[39m 1.1.0\n",
      "\u001b[32m✔\u001b[39m \u001b[34mrecipes     \u001b[39m 1.0.5     \n",
      "\n",
      "── \u001b[1mConflicts\u001b[22m ─────────────────────────────────────────────────────────────────────────────────────────────────────────────────────────────────────────────────────── tidymodels_conflicts() ──\n",
      "\u001b[31m✖\u001b[39m \u001b[34mscales\u001b[39m::\u001b[32mdiscard()\u001b[39m masks \u001b[34mpurrr\u001b[39m::discard()\n",
      "\u001b[31m✖\u001b[39m \u001b[34mdplyr\u001b[39m::\u001b[32mfilter()\u001b[39m   masks \u001b[34mstats\u001b[39m::filter()\n",
      "\u001b[31m✖\u001b[39m \u001b[34mrecipes\u001b[39m::\u001b[32mfixed()\u001b[39m  masks \u001b[34mstringr\u001b[39m::fixed()\n",
      "\u001b[31m✖\u001b[39m \u001b[34mdplyr\u001b[39m::\u001b[32mlag()\u001b[39m      masks \u001b[34mstats\u001b[39m::lag()\n",
      "\u001b[31m✖\u001b[39m \u001b[34myardstick\u001b[39m::\u001b[32mspec()\u001b[39m masks \u001b[34mreadr\u001b[39m::spec()\n",
      "\u001b[31m✖\u001b[39m \u001b[34mrecipes\u001b[39m::\u001b[32mstep()\u001b[39m   masks \u001b[34mstats\u001b[39m::step()\n",
      "\u001b[34m•\u001b[39m Dig deeper into tidy modeling with R at \u001b[32mhttps://www.tmwr.org\u001b[39m\n",
      "\n",
      "\n",
      "Attaching package: ‘MASS’\n",
      "\n",
      "\n",
      "The following object is masked from ‘package:dplyr’:\n",
      "\n",
      "    select\n",
      "\n",
      "\n",
      "Registered S3 method overwritten by 'GGally':\n",
      "  method from   \n",
      "  +.gg   ggplot2\n",
      "\n",
      "Loading required package: lattice\n",
      "\n",
      "\n",
      "Attaching package: ‘caret’\n",
      "\n",
      "\n",
      "The following objects are masked from ‘package:yardstick’:\n",
      "\n",
      "    precision, recall, sensitivity, specificity\n",
      "\n",
      "\n",
      "The following object is masked from ‘package:purrr’:\n",
      "\n",
      "    lift\n",
      "\n",
      "\n"
     ]
    }
   ],
   "source": [
    "library(tidyverse)\n",
    "library(tidymodels)\n",
    "library(repr)\n",
    "library(MASS)\n",
    "library(GGally)\n",
    "library(caret)\n",
    "options(repr.matrix.max.rows = 6)"
   ]
  },
  {
   "cell_type": "markdown",
   "id": "577d7228-34de-4b2c-9f95-0d805d065d19",
   "metadata": {},
   "source": [
    "### Read the dataset, clean and wrangle the data into a tidy format."
   ]
  },
  {
   "cell_type": "markdown",
   "id": "f50c68e3-4913-4bf6-b39e-1e58e5583a09",
   "metadata": {},
   "source": [
    "Download the dataset from the url and store it into a local file."
   ]
  },
  {
   "cell_type": "code",
   "execution_count": 2,
   "id": "20a84d73-9d3f-40c6-8809-77b401628dd4",
   "metadata": {
    "vscode": {
     "languageId": "r"
    }
   },
   "outputs": [],
   "source": [
    "url = 'https://archive.ics.uci.edu/ml/machine-learning-databases/heart-disease/processed.cleveland.data'\n",
    "\n",
    "download.file(url, destfile = \"data/processed.cleveland.data\")"
   ]
  },
  {
   "cell_type": "markdown",
   "id": "7f02949b-de4d-433f-913b-72344097bd18",
   "metadata": {},
   "source": [
    "Read the file into the dataframe `heart_disease_original`. We will need to manually specify the column types, which are given on the database website."
   ]
  },
  {
   "cell_type": "code",
   "execution_count": 3,
   "id": "98894403-1a6c-420d-a830-2a97128cbf86",
   "metadata": {
    "tags": [],
    "vscode": {
     "languageId": "r"
    }
   },
   "outputs": [
    {
     "name": "stderr",
     "output_type": "stream",
     "text": [
      "\u001b[1mRows: \u001b[22m\u001b[34m303\u001b[39m \u001b[1mColumns: \u001b[22m\u001b[34m14\u001b[39m\n",
      "\u001b[36m──\u001b[39m \u001b[1mColumn specification\u001b[22m \u001b[36m──────────────────────────────────────────────────────────────────────────────────────────────────────────────────────────────────────────────────────────────────────\u001b[39m\n",
      "\u001b[1mDelimiter:\u001b[22m \",\"\n",
      "\u001b[31mchr\u001b[39m  (2): col_vessels, defect\n",
      "\u001b[32mdbl\u001b[39m (12): age, sex, chest_pain, rest_bps, chol, fbs, rest_ecg, max_hr, ex_an...\n",
      "\n",
      "\u001b[36mℹ\u001b[39m Use `spec()` to retrieve the full column specification for this data.\n",
      "\u001b[36mℹ\u001b[39m Specify the column types or set `show_col_types = FALSE` to quiet this message.\n"
     ]
    },
    {
     "data": {
      "text/html": [
       "<table class=\"dataframe\">\n",
       "<caption>A tibble: 10 × 14</caption>\n",
       "<thead>\n",
       "\t<tr><th scope=col>age</th><th scope=col>sex</th><th scope=col>chest_pain</th><th scope=col>rest_bps</th><th scope=col>chol</th><th scope=col>fbs</th><th scope=col>rest_ecg</th><th scope=col>max_hr</th><th scope=col>ex_ang</th><th scope=col>st_depression</th><th scope=col>slope</th><th scope=col>col_vessels</th><th scope=col>defect</th><th scope=col>num</th></tr>\n",
       "\t<tr><th scope=col>&lt;dbl&gt;</th><th scope=col>&lt;dbl&gt;</th><th scope=col>&lt;dbl&gt;</th><th scope=col>&lt;dbl&gt;</th><th scope=col>&lt;dbl&gt;</th><th scope=col>&lt;dbl&gt;</th><th scope=col>&lt;dbl&gt;</th><th scope=col>&lt;dbl&gt;</th><th scope=col>&lt;dbl&gt;</th><th scope=col>&lt;dbl&gt;</th><th scope=col>&lt;dbl&gt;</th><th scope=col>&lt;chr&gt;</th><th scope=col>&lt;chr&gt;</th><th scope=col>&lt;dbl&gt;</th></tr>\n",
       "</thead>\n",
       "<tbody>\n",
       "\t<tr><td>63</td><td>1</td><td>1</td><td>145</td><td>233</td><td>1</td><td>2</td><td>150</td><td>0</td><td>2.3</td><td>3</td><td>0.0</td><td>6.0</td><td>0</td></tr>\n",
       "\t<tr><td>67</td><td>1</td><td>4</td><td>160</td><td>286</td><td>0</td><td>2</td><td>108</td><td>1</td><td>1.5</td><td>2</td><td>3.0</td><td>3.0</td><td>2</td></tr>\n",
       "\t<tr><td>67</td><td>1</td><td>4</td><td>120</td><td>229</td><td>0</td><td>2</td><td>129</td><td>1</td><td>2.6</td><td>2</td><td>2.0</td><td>7.0</td><td>1</td></tr>\n",
       "\t<tr><td>⋮</td><td>⋮</td><td>⋮</td><td>⋮</td><td>⋮</td><td>⋮</td><td>⋮</td><td>⋮</td><td>⋮</td><td>⋮</td><td>⋮</td><td>⋮</td><td>⋮</td><td>⋮</td></tr>\n",
       "\t<tr><td>57</td><td>0</td><td>4</td><td>120</td><td>354</td><td>0</td><td>0</td><td>163</td><td>1</td><td>0.6</td><td>1</td><td>0.0</td><td>3.0</td><td>0</td></tr>\n",
       "\t<tr><td>63</td><td>1</td><td>4</td><td>130</td><td>254</td><td>0</td><td>2</td><td>147</td><td>0</td><td>1.4</td><td>2</td><td>1.0</td><td>7.0</td><td>2</td></tr>\n",
       "\t<tr><td>53</td><td>1</td><td>4</td><td>140</td><td>203</td><td>1</td><td>2</td><td>155</td><td>1</td><td>3.1</td><td>3</td><td>0.0</td><td>7.0</td><td>1</td></tr>\n",
       "</tbody>\n",
       "</table>\n"
      ],
      "text/latex": [
       "A tibble: 10 × 14\n",
       "\\begin{tabular}{llllllllllllll}\n",
       " age & sex & chest\\_pain & rest\\_bps & chol & fbs & rest\\_ecg & max\\_hr & ex\\_ang & st\\_depression & slope & col\\_vessels & defect & num\\\\\n",
       " <dbl> & <dbl> & <dbl> & <dbl> & <dbl> & <dbl> & <dbl> & <dbl> & <dbl> & <dbl> & <dbl> & <chr> & <chr> & <dbl>\\\\\n",
       "\\hline\n",
       "\t 63 & 1 & 1 & 145 & 233 & 1 & 2 & 150 & 0 & 2.3 & 3 & 0.0 & 6.0 & 0\\\\\n",
       "\t 67 & 1 & 4 & 160 & 286 & 0 & 2 & 108 & 1 & 1.5 & 2 & 3.0 & 3.0 & 2\\\\\n",
       "\t 67 & 1 & 4 & 120 & 229 & 0 & 2 & 129 & 1 & 2.6 & 2 & 2.0 & 7.0 & 1\\\\\n",
       "\t ⋮ & ⋮ & ⋮ & ⋮ & ⋮ & ⋮ & ⋮ & ⋮ & ⋮ & ⋮ & ⋮ & ⋮ & ⋮ & ⋮\\\\\n",
       "\t 57 & 0 & 4 & 120 & 354 & 0 & 0 & 163 & 1 & 0.6 & 1 & 0.0 & 3.0 & 0\\\\\n",
       "\t 63 & 1 & 4 & 130 & 254 & 0 & 2 & 147 & 0 & 1.4 & 2 & 1.0 & 7.0 & 2\\\\\n",
       "\t 53 & 1 & 4 & 140 & 203 & 1 & 2 & 155 & 1 & 3.1 & 3 & 0.0 & 7.0 & 1\\\\\n",
       "\\end{tabular}\n"
      ],
      "text/markdown": [
       "\n",
       "A tibble: 10 × 14\n",
       "\n",
       "| age &lt;dbl&gt; | sex &lt;dbl&gt; | chest_pain &lt;dbl&gt; | rest_bps &lt;dbl&gt; | chol &lt;dbl&gt; | fbs &lt;dbl&gt; | rest_ecg &lt;dbl&gt; | max_hr &lt;dbl&gt; | ex_ang &lt;dbl&gt; | st_depression &lt;dbl&gt; | slope &lt;dbl&gt; | col_vessels &lt;chr&gt; | defect &lt;chr&gt; | num &lt;dbl&gt; |\n",
       "|---|---|---|---|---|---|---|---|---|---|---|---|---|---|\n",
       "| 63 | 1 | 1 | 145 | 233 | 1 | 2 | 150 | 0 | 2.3 | 3 | 0.0 | 6.0 | 0 |\n",
       "| 67 | 1 | 4 | 160 | 286 | 0 | 2 | 108 | 1 | 1.5 | 2 | 3.0 | 3.0 | 2 |\n",
       "| 67 | 1 | 4 | 120 | 229 | 0 | 2 | 129 | 1 | 2.6 | 2 | 2.0 | 7.0 | 1 |\n",
       "| ⋮ | ⋮ | ⋮ | ⋮ | ⋮ | ⋮ | ⋮ | ⋮ | ⋮ | ⋮ | ⋮ | ⋮ | ⋮ | ⋮ |\n",
       "| 57 | 0 | 4 | 120 | 354 | 0 | 0 | 163 | 1 | 0.6 | 1 | 0.0 | 3.0 | 0 |\n",
       "| 63 | 1 | 4 | 130 | 254 | 0 | 2 | 147 | 0 | 1.4 | 2 | 1.0 | 7.0 | 2 |\n",
       "| 53 | 1 | 4 | 140 | 203 | 1 | 2 | 155 | 1 | 3.1 | 3 | 0.0 | 7.0 | 1 |\n",
       "\n"
      ],
      "text/plain": [
       "   age sex chest_pain rest_bps chol fbs rest_ecg max_hr ex_ang st_depression\n",
       "1  63  1   1          145      233  1   2        150    0      2.3          \n",
       "2  67  1   4          160      286  0   2        108    1      1.5          \n",
       "3  67  1   4          120      229  0   2        129    1      2.6          \n",
       "⋮  ⋮   ⋮   ⋮          ⋮        ⋮    ⋮   ⋮        ⋮      ⋮      ⋮            \n",
       "8  57  0   4          120      354  0   0        163    1      0.6          \n",
       "9  63  1   4          130      254  0   2        147    0      1.4          \n",
       "10 53  1   4          140      203  1   2        155    1      3.1          \n",
       "   slope col_vessels defect num\n",
       "1  3     0.0         6.0    0  \n",
       "2  2     3.0         3.0    2  \n",
       "3  2     2.0         7.0    1  \n",
       "⋮  ⋮     ⋮           ⋮      ⋮  \n",
       "8  1     0.0         3.0    0  \n",
       "9  2     1.0         7.0    2  \n",
       "10 3     0.0         7.0    1  "
      ]
     },
     "metadata": {},
     "output_type": "display_data"
    }
   ],
   "source": [
    "heart_disease_original <- read_csv(\"data/processed.cleveland.data\",\n",
    "                                   # add column names\n",
    "                                   col_names = c(\"age\",\n",
    "                                                 \"sex\",\n",
    "                                                 \"chest_pain\", \n",
    "                                                 \"rest_bps\", \n",
    "                                                 \"chol\", \n",
    "                                                 \"fbs\", \n",
    "                                                 \"rest_ecg\", \n",
    "                                                 \"max_hr\", \n",
    "                                                 \"ex_ang\", \n",
    "                                                 \"st_depression\", \n",
    "                                                 \"slope\", \n",
    "                                                 \"col_vessels\", \n",
    "                                                 \"defect\", \n",
    "                                                 \"num\"))\n",
    "\n",
    "head(heart_disease_original, 10)"
   ]
  },
  {
   "cell_type": "markdown",
   "id": "7162ccc6-7e07-412c-a8f9-411e96bf03cc",
   "metadata": {},
   "source": [
    "Now, we need to wrangle `heart_disease_original` by removing all rows that contain a question mark, filtering essentially NA values and changing the type of `ca` and `defect` to be doubles."
   ]
  },
  {
   "cell_type": "code",
   "execution_count": 4,
   "id": "540ed0c1-41eb-4449-b780-630d1e053e4c",
   "metadata": {
    "vscode": {
     "languageId": "r"
    }
   },
   "outputs": [
    {
     "ename": "ERROR",
     "evalue": "Error in parse(text = x, srcfile = src): <text>:1:42: unexpected '>'\n1: heart_disease <- heart_disease_original |>\n                                             ^\n",
     "output_type": "error",
     "traceback": [
      "Error in parse(text = x, srcfile = src): <text>:1:42: unexpected '>'\n1: heart_disease <- heart_disease_original |>\n                                             ^\nTraceback:\n"
     ]
    }
   ],
   "source": [
    "heart_disease <- heart_disease_original |> \n",
    "\n",
    "                    # remove all rows that contain a question\n",
    "                    # mark (esentially NA values) to supress\n",
    "                    # warnings from R\n",
    "                    filter(defect != \"?\", col_vessels != \"?\") |>\n",
    "\n",
    "                    # change columns col_vessels and defect to be numeric\n",
    "                    # to allow for tidymodels to work properly\n",
    "                    mutate(col_vessels = as.numeric(col_vessels),\n",
    "                           defect = as.numeric(defect),\n",
    "                           num = as_factor(num)) |>\n",
    "\n",
    "                    # remove rows with NA values\n",
    "                    na.omit()     \n",
    "\n",
    "\n",
    "head(heart_disease, 10)"
   ]
  },
  {
   "cell_type": "markdown",
   "id": "eadc45af-2e5f-4fb7-8433-a3c4b1223692",
   "metadata": {},
   "source": [
    "Let's check the distribution for our target variable `num`. "
   ]
  },
  {
   "cell_type": "code",
   "execution_count": 12,
   "id": "8b253309-edda-4ea6-9e9b-926d88e1192d",
   "metadata": {
    "vscode": {
     "languageId": "r"
    }
   },
   "outputs": [
    {
     "ename": "ERROR",
     "evalue": "Error in parse(text = x, srcfile = src): <text>:1:16: unexpected '>'\n1: heart_disease |>\n                   ^\n",
     "output_type": "error",
     "traceback": [
      "Error in parse(text = x, srcfile = src): <text>:1:16: unexpected '>'\n1: heart_disease |>\n                   ^\nTraceback:\n"
     ]
    }
   ],
   "source": [
    "heart_disease |> \n",
    "   group_by(num) |> \n",
    "   summarize(count = n()) |>\n",
    "   # we can find the percent by dividing count for each\n",
    "   # num by nrow(heart_disease) which gives us the amount\n",
    "   # of rows in heart_disease\n",
    "   mutate(percent = 100 * (count/nrow(heart_disease)))"
   ]
  },
  {
   "cell_type": "markdown",
   "id": "865800de-6ea4-476a-ac10-8b97acae5623",
   "metadata": {},
   "source": [
    "It looks like there is an uneven proportion of data for `num`. There is an proportionally high amount of rows where `num` is 0 vs where `num` is 1, 2, 3, or 4. Due to the lack of distribution of data, we will likely not get a very accurate k-nn model. We will solve this problem later by upsampling our training data. For now, let's continue as normal. "
   ]
  },
  {
   "cell_type": "markdown",
   "id": "a4f3faae-9867-455f-9038-e9479639bf8c",
   "metadata": {},
   "source": [
    "### Split the dataset into training set and testing set."
   ]
  },
  {
   "cell_type": "markdown",
   "id": "58cdabda-5ab9-4400-9f7e-e576e2dedcd4",
   "metadata": {},
   "source": [
    "We will split our dataset `heart_diease` into a testing and training set. We will upsample the training set which will hopefully increase the accuracy of our model."
   ]
  },
  {
   "cell_type": "code",
   "execution_count": null,
   "id": "40e49113-7139-4fa7-9879-e442386e02d5",
   "metadata": {
    "vscode": {
     "languageId": "r"
    }
   },
   "outputs": [],
   "source": [
    "# setting a seed which will not be changed for the rest of the project\n",
    "set.seed(2023)\n",
    "\n",
    "heart_disease_split <- initial_split(heart_disease, prop = 0.75, strata = num)\n",
    "heart_disease_training <- training(heart_disease_split)\n",
    "heart_disease_testing <- testing(heart_disease_split)\n",
    "\n",
    "head(heart_disease_training)"
   ]
  },
  {
   "cell_type": "markdown",
   "id": "91bad673-d2c5-44de-94be-64fd45fd18c2",
   "metadata": {},
   "source": [
    "Now, we will use the `upSample` function from `caret` to upsample all the minority classes in `heart_disease_training` to have the same amount of observations as the majority class. "
   ]
  },
  {
   "cell_type": "code",
   "execution_count": null,
   "id": "11983300-9c76-46f7-9869-d6230d499fa1",
   "metadata": {
    "vscode": {
     "languageId": "r"
    }
   },
   "outputs": [],
   "source": [
    "# setting a seed which will not be changed for the rest of the project\n",
    "set.seed(2023)\n",
    "\n",
    "heart_disease_training_upsampled <- upSample(x = heart_disease_training[,-ncol(heart_disease_training)],\n",
    "                                             y = heart_disease_training$num) |>\n",
    "                                    # upSample changes the name of the column of the factor variable to\n",
    "                                    # Class so we will change it back to num manually\n",
    "                                    mutate(num = Class) |>\n",
    "                                    dplyr::select(-Class)\n",
    "\n",
    "head(heart_disease_training_upsampled, 160)"
   ]
  },
  {
   "cell_type": "markdown",
   "id": "adac21db-f7e0-4873-b733-b3688cbb343f",
   "metadata": {},
   "source": [
    "Now we will compare the distribution of `num` between our original training data and our upsampled training data."
   ]
  },
  {
   "cell_type": "code",
   "execution_count": null,
   "id": "1ae98914-eff6-4d86-8753-028c3c66581e",
   "metadata": {
    "vscode": {
     "languageId": "r"
    }
   },
   "outputs": [],
   "source": [
    "heart_disease_training |> \n",
    "   group_by(num) |> \n",
    "   summarize(count = n()) |>\n",
    "   mutate(percent = 100 * (count/nrow(heart_disease_training)))\n",
    "\n",
    "heart_disease_training_upsampled |> \n",
    "   group_by(num) |> \n",
    "   summarize(count = n()) |>\n",
    "   mutate(percent = 100 * (count/nrow(heart_disease_training_upsampled)))"
   ]
  },
  {
   "cell_type": "markdown",
   "id": "10217371-feec-4371-bac3-6d33828c15d3",
   "metadata": {},
   "source": [
    "As we can see, in `heart_disease_training`, the distribution of `num` is quite uneven which is what we expected given the distribution of `num` in the original data set. However, in `heart_disease_training_upsampled`, the distribution of `num` is exactly 20% for each factor. This indicates to us that upsampling worked properly. "
   ]
  },
  {
   "cell_type": "markdown",
   "id": "58023c5a-4b60-465f-89f3-f154d8d9bfab",
   "metadata": {},
   "source": [
    "# Selecting Predictors\n",
    "\n",
    "### GGPairs\n",
    "\n",
    "Of the 14 predictors given, we can conclude that `chest_pain` and `ex_ang` are likely to be predictors that help determine between the different types of num. Chest pain is likely related to the presence of heart disease, as people who don't have heart disease likely don't have chest pain either. Moreover, if someone has an exercise-induced angina, it seems likely that they will be more succeptible to heart disease. However, there is no clear decision on whether or not to include the remaining 12 predictors.\n",
    "\n",
    "Therefore, to choose our predictor variables, we will use `ggpairs` to find the correlation between all the variables and our factor variable `num`. We will then decide which variable seems to be significant between determining between different factors of `num`. \n",
    "\n",
    "However, since we have a lot of predictor variables, to make it easy to view 14 different graphs, we will break our dataset into 2 smaller datasets and view them seperately to make it more legible.\n"
   ]
  },
  {
   "cell_type": "code",
   "execution_count": null,
   "id": "2e6594a4-cb68-409a-9073-3ba4305c4c9d",
   "metadata": {
    "vscode": {
     "languageId": "r"
    }
   },
   "outputs": [],
   "source": [
    "heart_disease_training_1 <- heart_disease_training_upsampled |>\n",
    "    # select the first 7 columns as well as num \n",
    "    dplyr::select(1:7, num)\n",
    "\n",
    "heart_disease_training_2 <- heart_disease_training_upsampled |>\n",
    "    # select the remaining columns\n",
    "    dplyr::select(8:14)\n",
    "\n",
    "head(heart_disease_training_1)\n",
    "head(heart_disease_training_2)"
   ]
  },
  {
   "cell_type": "code",
   "execution_count": null,
   "id": "d04a92e9-5414-4c77-9dfd-bb42964c6316",
   "metadata": {
    "vscode": {
     "languageId": "r"
    }
   },
   "outputs": [],
   "source": [
    "big_plot_1 <- ggpairs(heart_disease_training_1, \n",
    "                      # make the text size bigger \n",
    "                      upper = list(continuous = wrap(\"cor\", size = 10)),\n",
    "                      # color the output by our factor variable and make\n",
    "                      # the graphs translucent\n",
    "                      ggplot2::aes(colour = num, alpha = 0.2))\n",
    "\n",
    "big_plot_2 <- ggpairs(heart_disease_training_2, \n",
    "                      upper = list(continuous = wrap(\"cor\", size = 10)),\n",
    "                      ggplot2::aes(colour = num, alpha = 0.2))"
   ]
  },
  {
   "cell_type": "code",
   "execution_count": null,
   "id": "0a665859-cd1b-40ab-84c6-6e62c7b851a8",
   "metadata": {
    "vscode": {
     "languageId": "r"
    }
   },
   "outputs": [],
   "source": [
    "options(repr.plot.width = 30, repr.plot.height = 30)\n",
    " \n",
    "big_plot_1 + # make all text bigger\n",
    "             theme(text = element_text(size = 50), \n",
    "                   # adjust the axis text to be a bit smaller \n",
    "                   axis.text = element_text(size = 20))\n",
    "\n",
    "big_plot_2 + theme(text = element_text(size = 50), \n",
    "                   axis.text = element_text(size = 20))"
   ]
  },
  {
   "cell_type": "markdown",
   "id": "de4cfe5f-cc55-44f6-b88e-de4590a96bc0",
   "metadata": {},
   "source": [
    "We will mainly be looking at the diagonal curves of these graphs. \n",
    "\n",
    "For the first graph, it looks like `age` and `chol` show a signficant difference between different types of `num`. Surprisingly, it doesn't seem like `chest_pain` is a good predictor between the different types of `num`. We can see a big blue spike (correlating to `num = 3`) at high values of `chest_pain` but otherwise, all the curves look quite similar. Furthermore, it's tough to determine whether `rest_ecg` is a good predictor since even though there seems to be seperation between the curves, the curves all follow the same trend; they rise and fall at the same locations. All the other predictors seem to be bad at differentiating between the different curves.\n",
    "\n",
    "For the second graph, it looks like `max_hr`, `slope`, `col_vessels` and `defect` are good predictors whereas it's tough to determine whether `st_depression` is good or not. It also tends to rise and fall at the same location. \n",
    "\n",
    "To qualitatively determine which predictors to use, we will use the method of backward selection."
   ]
  },
  {
   "cell_type": "markdown",
   "id": "74e873af-cc2f-4bb3-86d3-ad62f1d00276",
   "metadata": {},
   "source": [
    "Section 6.8.3 of the data science textbook briefly mentions the method of forward selection in R. However, the method it shows is far too manual. The more manual we make our program, the more prone it is to errors. Therefore, we will be using the `MASS` library to import a few functions which allow us to do the same thing.\n",
    "\n",
    " Therefore, instead of forward selection, we will use backward selection to remove one predictor at a time. Then, we will check if the AIC of the new model goes down. We will remove the predictor which lowers the AIC the most until we get to a point where removing predictors increases AIC. \n",
    " \n",
    "AIC, or Akaike Information Criterion, is a measure used to evaluate the goodness of fit of a statistical model. It takes into account both the complexity of the model and its performance in explaining the data. The main goal of AIC is to find the best balance between model complexity and its ability to explain the observed data. Lower AIC values indicate better model performance, while higher AIC values indicate worse model performance.\n",
    "\n",
    "During the backward selection process, we remove the predictor that, when removed, results in the lowest AIC value for the reduced model. We continue to remove predictors one by one and compare the AIC values, stopping when any further removal of predictors would result in an increase in AIC. By removing predictors that contribute less to the model's performance and comparing AIC values, we can identify the combination of predictors that provides the best balance between model complexity and predictive accuracy."
   ]
  },
  {
   "cell_type": "code",
   "execution_count": null,
   "id": "e0d5294f-8339-4f64-b469-4c4d9618997e",
   "metadata": {
    "vscode": {
     "languageId": "r"
    }
   },
   "outputs": [],
   "source": [
    "# the MASS library requires all values to be an integer\n",
    "heart_disease_training_aic <- heart_disease_training |>\n",
    "    mutate(num = as.numeric(num))"
   ]
  },
  {
   "cell_type": "code",
   "execution_count": null,
   "id": "3a41ec3c-dd13-4af9-8f84-6e7aa70e0bce",
   "metadata": {
    "vscode": {
     "languageId": "r"
    }
   },
   "outputs": [],
   "source": [
    "# setting a seed which will not be changed for the rest of the project\n",
    "set.seed(2023)\n",
    "\n",
    "null <- lm(num ~ 1, data = heart_disease_training_aic) # 1 means no predictor \n",
    "full <- lm(num ~ ., data = heart_disease_training_aic) # use all predictors\n",
    " \n",
    "# this function goes from full (all predictors) to null (no predictors) \n",
    "# and removes the predictor whose removal decreases the AIC the most\n",
    "stepAIC(full, scope = list(lower = null, upper=full), \n",
    "         data = heart_disease_training_aic,\n",
    "         direction = 'backward')"
   ]
  },
  {
   "cell_type": "markdown",
   "id": "1b150c56-f03e-4819-83cb-1aaacca67a1d",
   "metadata": {},
   "source": [
    "Looking at the output of `stepAIC`, it looks like it suggests that `sex` and `st_depression` were indeed good predictors for our model. Moreover, it also suggests the inclusion of `chest_pain` and `ex_ang` as a predictor. Looking at the graph, it does seem fair to not include `ex_ang` however it looks like `chest_pain` is a toss up. We will veer on the side of caution and not include it.\n",
    "\n",
    "Personally, we still belive that `sex` is not a good predictor due to the visual confirmation given by the `ggpairs` function, so we will use all the predictors that were given to use by the `stepAIC` function except for `sex`."
   ]
  },
  {
   "cell_type": "markdown",
   "id": "a9e19695-dd52-4cce-bae8-4947dcb5a3f0",
   "metadata": {},
   "source": [
    "### Using only training data, summarize the data in one table."
   ]
  },
  {
   "cell_type": "markdown",
   "id": "b14617c5-8420-4cff-a5b5-4cdbe16d9b1a",
   "metadata": {},
   "source": [
    "Since we don't know the best value of $k$ to use for the model, we will use `vfold` and the `tune()` function to determine the accuracy of the model at different values of $k$. Firstly, we will create the recipe."
   ]
  },
  {
   "cell_type": "code",
   "execution_count": null,
   "id": "49f30307-69ad-4958-a997-76e713839fdd",
   "metadata": {
    "vscode": {
     "languageId": "r"
    }
   },
   "outputs": [],
   "source": [
    "# setting a seed which will not be changed for the rest of the project\n",
    "set.seed(2023)\n",
    "\n",
    "# create recipe for k-nn using the previously mentioned predictors\n",
    "heart_disease_recipe <- recipe(num ~ age + chest_pain + chol + max_hr + st_depression + slope + col_vessels + defect,\n",
    "                               data = heart_disease_training_upsampled) |>\n",
    "                        # normalize data\n",
    "                        step_scale(all_predictors()) |>\n",
    "                        step_center(all_predictors())"
   ]
  },
  {
   "cell_type": "markdown",
   "id": "9df41ad4-af68-4ac5-88be-7e5e345e10cc",
   "metadata": {},
   "source": [
    "We will start the $k$ value at 1 and set the upper limit to 70. We chose the upper limit of 70 since it is close enough to 120 (the majority classifier) that our model will naturally start losing accuracy. In an ideal world, we would have the upper limit at exactly the majority classifier but doing `vfold` with 100+ neighbours takes a long computation time."
   ]
  },
  {
   "cell_type": "code",
   "execution_count": null,
   "id": "193b5166-4d2b-4799-8039-2f372e0ab1ae",
   "metadata": {
    "vscode": {
     "languageId": "r"
    }
   },
   "outputs": [],
   "source": [
    "# setting a seed which will not be changed for the rest of the project\n",
    "set.seed(2023)\n",
    "\n",
    "# we will use a step value of 5 to provide high accuracy while not severly effecting\n",
    "# computation speed\n",
    "k_vals <- tibble(neighbors = seq(from = 1, to = 70, by = 5))\n",
    "\n",
    "# create a standard 5 fold model of the training data\n",
    "heart_disease_vfold <- vfold_cv(heart_disease_training, v = 5, strata = num)\n",
    "\n",
    "# create the specification of our k-nn model using tune() for the neighbours value\n",
    "heart_disease_tune <- nearest_neighbor(weight_func = \"rectangular\", neighbors = tune()) |>\n",
    "                 set_engine(\"kknn\") |>\n",
    "                 set_mode(\"classification\")\n",
    "\n",
    "heart_disease_tune_results <- workflow() |>\n",
    "  # add our recipe and model\n",
    "  add_recipe(heart_disease_recipe) |>\n",
    "  add_model(heart_disease_tune) |>\n",
    "  # tune the grid to involve vfold and tuned neighbour \n",
    "  tune_grid(resamples = heart_disease_vfold, grid = k_vals) |>\n",
    "  collect_metrics() \n",
    "\n",
    "# sort accuracies by the accuracy of the neighbour count\n",
    "(accuracies <- heart_disease_tune_results |>\n",
    "  filter(.metric == \"accuracy\") |>\n",
    "  arrange(desc(mean)))\n",
    "\n",
    "# get the k value with the highest accuracy\n",
    "(best_k_value <- accuracies |>\n",
    "    dplyr::select(neighbors) |>\n",
    "    slice(1) |>\n",
    "    pull())"
   ]
  },
  {
   "cell_type": "markdown",
   "id": "0f627c79-f632-449c-b70d-14c76ed5c4bd",
   "metadata": {},
   "source": [
    "It looks like a neighbour count of around 41-46 gives us the highest accuracy. To further hone in on the exact neighbour count which gives us the maximal accuracy, we will repeat this process once more with a more precise range for our k values."
   ]
  },
  {
   "cell_type": "code",
   "execution_count": null,
   "id": "fb3f1a09-ff65-434e-bf31-8ba1bc3e2e8e",
   "metadata": {
    "vscode": {
     "languageId": "r"
    }
   },
   "outputs": [],
   "source": [
    "# setting a seed which will not be changed for the rest of the project\n",
    "set.seed(2023)\n",
    "\n",
    "# since 51 seems to be in the same range as 41 for the accuracy, we will let this tibble\n",
    "# extend more to the right of the best_k_value than to the left\n",
    "k_vals_precise <- tibble(neighbors = seq(from = best_k_value - 10, to = best_k_value + 15, by = 1))\n",
    "\n",
    "\n",
    "# the rest of this code is essentially copy pasted from the last time we ran this\n",
    "# workflow, but with updated names; notice that we can reuse our old recipe and \n",
    "# specification\n",
    "heart_disease_tune_results_precise <- workflow() |>\n",
    "  add_recipe(heart_disease_recipe) |>\n",
    "  add_model(heart_disease_tune) |>\n",
    "  tune_grid(resamples = heart_disease_vfold, grid = k_vals_precise) |>\n",
    "  collect_metrics() \n",
    "\n",
    "(accuracies_precise <- heart_disease_tune_results_precise |>\n",
    "  filter(.metric == \"accuracy\") |>\n",
    "  arrange(desc(mean)))\n",
    "\n",
    "(best_k_value_precise <- accuracies_precise |>\n",
    "    dplyr::select(neighbors) |>\n",
    "    slice(1) |>\n",
    "    pull())"
   ]
  },
  {
   "cell_type": "markdown",
   "id": "67a05729-3f5a-4a6c-83f2-ed9203debfdb",
   "metadata": {},
   "source": [
    "We will now plot the accuracy vs the neighbour count to get a better idea of what this data looks like."
   ]
  },
  {
   "cell_type": "code",
   "execution_count": null,
   "id": "78bfd0ea-14ef-48b5-b104-0cf148a12cee",
   "metadata": {
    "vscode": {
     "languageId": "r"
    }
   },
   "outputs": [],
   "source": [
    "options(repr.plot.width = 12, repr.plot.height = 8)\n",
    "\n",
    "(accuracy_vs_k_precise <- ggplot(accuracies_precise, aes(x = neighbors, y = mean)) +\n",
    "  geom_point() +\n",
    "  geom_line() +\n",
    "  labs(x = \"Neighbors\", y = \"Accuracy Estimate\") + \n",
    "  theme(text = element_text(size = 12)))"
   ]
  },
  {
   "cell_type": "markdown",
   "id": "28292092-9f80-4d4c-851d-78c5925b2db6",
   "metadata": {},
   "source": [
    "It looks like $k = 43, 44$ gives the highest accuracy value, which tapers off quickly and rising again just as quickly for another peak at around 49. From there it tapers off to a lower accuracy where it seems to stay. We will use the lower value of 43 just for computation's sake."
   ]
  },
  {
   "cell_type": "markdown",
   "id": "1aef4b0a-61da-435c-af06-8e7b683d3a2f",
   "metadata": {},
   "source": [
    "### Final Model with Known K-Value"
   ]
  },
  {
   "cell_type": "code",
   "execution_count": null,
   "id": "d05a8dbb-0547-47df-b919-d89626c1df93",
   "metadata": {
    "vscode": {
     "languageId": "r"
    }
   },
   "outputs": [],
   "source": [
    "# setting a seed which will not be changed for the rest of the project\n",
    "set.seed(2023)\n",
    "\n",
    "knn_spec <- nearest_neighbor(weight_func = \"rectangular\", \n",
    "                             neighbors = best_k_value_precise) |>\n",
    "  set_engine(\"kknn\") |>\n",
    "  set_mode(\"classification\")\n",
    "\n",
    "knn_fit <- workflow() |>\n",
    "  add_recipe(heart_disease_recipe) |>\n",
    "  add_model(knn_spec) |>\n",
    "  fit(data = heart_disease_training)"
   ]
  },
  {
   "cell_type": "code",
   "execution_count": null,
   "id": "0f8e432b-e891-4114-a133-0d285d8609e8",
   "metadata": {
    "vscode": {
     "languageId": "r"
    }
   },
   "outputs": [],
   "source": [
    "# setting a seed which will not be changed for the rest of the project\n",
    "set.seed(2023)\n",
    "\n",
    "heart_disease_test_predictions <- predict(knn_fit, heart_disease_testing) |>\n",
    "  bind_cols(heart_disease_testing)\n",
    "\n",
    "(heart_disease_test_predictions |>\n",
    "  metrics(truth = num, estimate = .pred_class) |>\n",
    "  filter(.metric == \"accuracy\"))"
   ]
  },
  {
   "cell_type": "markdown",
   "id": "5fac9461-4933-4220-a822-83f639fa65dd",
   "metadata": {},
   "source": [
    "It looks like our final model accuracy is 59%. If we remember from before, our majority classifier was `num = 0` which made up of 54% of the original data. This means that our model's accuracy improved upon just guessing every patient to have no heart disease by 5%. This may not seem like much, but due to the un-uniformity of our data, it makes sense that we did not achieve an incredibly accurate model.\n",
    "\n",
    "Let's visualize how our confusion matrix looks like."
   ]
  },
  {
   "cell_type": "code",
   "execution_count": null,
   "id": "de3f0779-659d-405a-9d39-0475de04b13d",
   "metadata": {
    "vscode": {
     "languageId": "r"
    }
   },
   "outputs": [],
   "source": [
    "options(repr.plot.width = 8, repr.plot.height = 8)\n",
    "\n",
    "confusion <- heart_disease_test_predictions |>\n",
    "             conf_mat(truth = num, estimate = .pred_class)\n",
    "\n",
    "autoplot(confusion, type = \"heatmap\") +\n",
    "  scale_fill_gradient(low = \"red\", high = \"green\") +\n",
    "  ggtitle(\"Confusion Matrix\") +\n",
    "  # make all text bigger\n",
    "  theme(\n",
    "      axis.title.x = element_text(size = 14),\n",
    "      axis.title.y = element_text(size = 14),\n",
    "      plot.title = element_text(size = 20)\n",
    "  )"
   ]
  },
  {
   "cell_type": "markdown",
   "id": "5a323a5e-eb5a-4f61-a36e-0d5c9fa1f1dd",
   "metadata": {},
   "source": [
    "It looks like our model is extremely accurate at guessing when the patient has no heart disease. There was only 1 case where the patient did not have heart disease but our model assumed they did. However, where our model struggles is classifying patients with heart disease. For a `num` value of 2 and 3, our model only correctly classified once whereas it was never accurate in correctly classifying a `num` value of 4. This makes sense, since we had an under-representation of the `num` values of 1, 2, 3, and 4 in our original data which we had to compensate for by upsampling."
   ]
  },
  {
   "cell_type": "markdown",
   "id": "eb3c34ef-0804-4c3f-8219-505c909e0a9c",
   "metadata": {},
   "source": [
    "## Expected outcomes and significance"
   ]
  },
  {
   "cell_type": "markdown",
   "id": "aade5b57-1924-4002-bb95-e218a50d1c23",
   "metadata": {},
   "source": [
    "- What do you expect to find?\n",
    "- What impact could such findings have?\n",
    "- What future questions could this lead to?"
   ]
  },
  {
   "cell_type": "markdown",
   "id": "da413131-afa6-4172-88bf-1cc473e329e0",
   "metadata": {},
   "source": [
    "Our model used the k-nearest neighbours algorithm with the data set of Cleveland heart disease patients to come up with an accuracy of 59% when determining the presence or lack thereof of heart disease (and the type of heart disease detected). Since the majority classifier in the data was 54%, our model improved on the majority classifier by 5%. If we look at the confusion matrix, our model is very good at determining cases where the patient had no heart disease. This was to be expected given the oversampling of cases in the data set where the patient had no heart disease.\n",
    "\n",
    "One way to fix the accuracy of this model is to first determine whether a patient has heart disease or not. This could be determined by changing all the values of `num = 1, 2, 3, 4` to `num = 1`. Then, we can create a k-nn model which determines the boolean value of whether a patient has heart disease or not. If the model classifies that the patient does indeed have heart disease, then we could run those patients through another model trained on the original data (with all the `num = 0` cases filtered out). Therefore, our second model is only trained on heart disease cases and does not have the extra noise of the no heart disease case and will therefore predict with higher accuracy what severity of heart disease a patient has. \n",
    "\n",
    "These findings can be important to future studies or can be put to use at current medical institutions. However, we would need for this model to be a lot more accurate than 59% before we start seeing real life usage of it. We believe that firstly, more data needs to be collected. Somewhere in the level of `n = 1000-5000`. Then, we can possibly see a highly accurate models which could be used to quickly classify patients. If the model predicts any patients with `num = 3` or `num = 4`, we know then that there is a high possibility that this patient has severe heart disease and should be checked with promptly. \n",
    "\n",
    "Future questions and research directions could include:\n",
    "\n",
    "1. How can we improve the accuracy of the model further? Are there other machine learning algorithms or techniques that might yield better results with this dataset, such as logistic regression, support vector machines, or deep learning?\n",
    "2. What additional features or predictors could be included in the analysis to improve the model's performance? Are there any other medical tests or patient characteristics that might be relevant in predicting heart disease?\n",
    "3. How does the model's performance change when trained on a larger, more diverse dataset? Would collecting data from a wider variety of sources or locations help improve the model's generalizability?\n",
    "4. How can we validate the model's performance in real-world settings? Can we set up clinical trials or partnerships with medical institutions to test the model's predictions against actual patient outcomes?\n",
    "5. What are the ethical implications of using data science algorithms in healthcare, particularly in the context of predicting heart disease? How can we ensure that the models do not perpetuate biases or lead to unfair treatment of patients?\n",
    "6. How can the model be integrated into existing healthcare workflows and systems? What changes might need to be made to the model or the way it is used to ensure that it can be effectively employed by medical professionals?\n",
    "\n",
    "By addressing these questions in future studies, we can continue to refine the predictive model and better understand its potential applications and limitations in the context of heart disease diagnosis and treatment."
   ]
  },
  {
   "cell_type": "markdown",
   "id": "b6ee8710-a95b-4159-9fd5-0800770d3d45",
   "metadata": {},
   "source": [
    "# References\n",
    "\n",
    "* https://datasciencebook.ca/\n",
    "\n",
    "* https://advstats.psychstat.org/book/mregression/selection.php\n",
    "\n",
    "* https://rdrr.io/cran/GGally/man/ggpairs.html\n",
    "\n",
    "* https://www.youtube.com/watch?v=0aTtMJO-pE4\n",
    "\n",
    "* https://stackoverflow.com/a/50710989\n",
    "\n",
    "* https://www.rdocumentation.org/packages/base/versions/3.6.2/topics/grep\n",
    "\n",
    "* https://ggplot2.tidyverse.org/reference/theme.html\n",
    "\n",
    "* An Introduction to Statistical Learning (James et al. 2013)"
   ]
  },
  {
   "cell_type": "code",
   "execution_count": null,
   "id": "3dd3686b-0cfa-4448-8991-f7cd3c0e47a8",
   "metadata": {
    "vscode": {
     "languageId": "r"
    }
   },
   "outputs": [],
   "source": []
  }
 ],
 "metadata": {
  "kernelspec": {
   "display_name": "R",
   "language": "R",
   "name": "ir"
  },
  "language_info": {
   "codemirror_mode": "r",
   "file_extension": ".r",
   "mimetype": "text/x-r-source",
   "name": "R",
   "pygments_lexer": "r",
   "version": "3.6.3"
  }
 },
 "nbformat": 4,
 "nbformat_minor": 5
}
